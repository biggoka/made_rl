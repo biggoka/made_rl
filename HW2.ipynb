{
 "cells": [
  {
   "cell_type": "code",
   "execution_count": 1,
   "metadata": {},
   "outputs": [
    {
     "name": "stderr",
     "output_type": "stream",
     "text": [
      "/Library/Python/3.7/site-packages/sklearn/utils/deprecation.py:144: FutureWarning: The sklearn.utils.testing module is  deprecated in version 0.22 and will be removed in version 0.24. The corresponding classes / functions should instead be imported from sklearn.utils. Anything that cannot be imported from sklearn.utils is now part of the private API.\n",
      "  warnings.warn(message, FutureWarning)\n"
     ]
    }
   ],
   "source": [
    "import gym\n",
    "\n",
    "import matplotlib as mpl\n",
    "import matplotlib.pyplot as plt\n",
    "import seaborn as sns\n",
    "import json\n",
    "import math\n",
    "import random\n",
    "import numpy as np\n",
    "import scipy as sp\n",
    "import scipy.stats as st\n",
    "import scipy.integrate as integrate\n",
    "from scipy.stats import multivariate_normal\n",
    "from sklearn import linear_model\n",
    "from sklearn.utils.testing import ignore_warnings\n",
    "from sklearn.exceptions import ConvergenceWarning\n",
    "import statsmodels.api as sm\n",
    "from matplotlib.colors import LogNorm\n",
    "import pickle\n",
    "\n",
    "from joblib import Parallel, delayed\n",
    "import multiprocessing\n",
    "from collections import namedtuple\n",
    "from itertools import count\n",
    "\n",
    "import cProfile\n",
    "from datetime import datetime\n",
    "\n",
    "import torch\n",
    "import torch.nn as nn\n",
    "import torch.optim as optim\n",
    "import torch.nn.functional as F\n",
    "import torchvision.transforms as T\n",
    "from torch.autograd import Variable\n",
    "\n",
    "sns.set_style(\"whitegrid\")\n",
    "sns.set_palette(\"colorblind\")\n",
    "palette = sns.color_palette()\n",
    "figsize = (15,8)\n",
    "legend_fontsize = 16\n",
    "\n",
    "from matplotlib import rc\n",
    "# rc('font',**{'family':'sans-serif'})\n",
    "# rc('text', usetex=True)\n",
    "# rc('text.latex',preamble=r'\\usepackage[utf8]{inputenc}')\n",
    "# rc('text.latex',preamble=r'\\usepackage[russian]{babel}')\n",
    "# rc('figure', **{'dpi': 300})\n",
    "\n",
    "from time import sleep\n",
    "\n",
    "from tqdm import tqdm\n",
    "import pandas as pd\n",
    "\n",
    "from collections import defaultdict\n",
    "\n",
    "import random"
   ]
  },
  {
   "cell_type": "code",
   "execution_count": null,
   "metadata": {},
   "outputs": [],
   "source": []
  },
  {
   "cell_type": "code",
   "execution_count": 2,
   "metadata": {},
   "outputs": [],
   "source": [
    "class ReplayMemory():\n",
    "    def __init__(self, capacity):\n",
    "        self.capacity = capacity\n",
    "        self.memory = []\n",
    "        self.position = 0\n",
    "#         self.weights = np.ones(shape=(self.capacity)) / self.capacity\n",
    "\n",
    "    def store(self, exptuple):\n",
    "        if len(self.memory) < self.capacity:\n",
    "            self.memory.append(None)\n",
    "        self.memory[self.position] = exptuple\n",
    "#         self.weights[self.position] = 1 / self.capacity\n",
    "        self.position = (self.position + 1) % self.capacity\n",
    "        \n",
    "#     def set_weights(self, weights):\n",
    "#         self.weights = np.array(weights)\n",
    "#         self.weights = self.weights / self.weights.sum()\n",
    "       \n",
    "    def sample(self, batch_size):\n",
    "        return random.sample(self.memory, batch_size)\n",
    "#         return np.random.choice(self.memory, size=batch_size, p=self.weights / self.weights.sum())\n",
    "    \n",
    "    def __len__(self):\n",
    "        return len(self.memory)\n",
    "\n",
    "class Network(nn.Module):\n",
    "    def __init__(self, layer_size=256):\n",
    "        nn.Module.__init__(self)\n",
    "        self.l1 = nn.Linear(4, layer_size)\n",
    "        self.l2 = nn.Linear(layer_size, 2)\n",
    "\n",
    "    def forward(self, x):\n",
    "        x = F.relu(self.l1(x))\n",
    "        x = self.l2(x)\n",
    "        return x\n",
    "\n",
    "def plot_durations(xs, labels):\n",
    "    plt.figure(figsize=(10, 5))\n",
    "    plt.xlabel('РќРѕРјРµСЂ СЌРїРёР·РѕРґР°')\n",
    "    plt.ylabel('Р§РёСЃР»Рѕ С€Р°РіРѕРІ')\n",
    "    for i,x in enumerate(xs):\n",
    "        plt.plot(x, label=labels[i])\n",
    "    plt.legend(loc=\"upper left\")\n",
    "\n",
    "class CartpoleDQN():\n",
    "    def __init__(self):\n",
    "        self.env = gym.make('CartPole-v0')\n",
    "        self.model = Network()\n",
    "        self.memory = ReplayMemory(10000)\n",
    "        self.optimizer = optim.Adam(self.model.parameters(), 0.001)\n",
    "        self.steps_done = 0\n",
    "        self.episode_durations = []\n",
    "        \n",
    "        self.gamma = 0.8\n",
    "        self.batch_size = 64\n",
    "        \n",
    "        self.eps_init, self.eps_final, self.eps_decay = 0.9, 0.05, 200\n",
    "        self.num_step = 0\n",
    "\n",
    "    def select_greedy_action(self, state):\n",
    "        return self.model(state).data.max(1)[1].view(1, 1)\n",
    "\n",
    "    def select_action(self, state):\n",
    "        sample = random.random()\n",
    "        self.num_step += 1\n",
    "        eps_threshold = self.eps_final + (self.eps_init - self.eps_final) * math.exp(-1. * self.num_step / self.eps_decay)\n",
    "        if sample > eps_threshold:\n",
    "            return self.select_greedy_action(state)\n",
    "        else:\n",
    "            return torch.tensor([[random.randrange(2)]], dtype=torch.int64)\n",
    "        \n",
    "    def run_episode(self, e=0, do_learning=True, greedy=False, render=False):\n",
    "        state, num_step = self.env.reset(), 0\n",
    "        while True:\n",
    "            if render:\n",
    "                self.env.render()\n",
    "\n",
    "            state_tensor = torch.tensor([state], dtype=torch.float32)\n",
    "            with torch.no_grad():\n",
    "                if greedy:\n",
    "                    action = self.select_greedy_action(state_tensor)\n",
    "                else:\n",
    "                    action = self.select_action(state_tensor)\n",
    "            next_state, reward, done, _ = self.env.step(action.numpy()[0][0])\n",
    "            next_state_tensor = torch.tensor([next_state], dtype=torch.float32)\n",
    "\n",
    "            if done:\n",
    "                reward = -1\n",
    "\n",
    "            transition = (state_tensor, action, next_state_tensor, torch.tensor([reward], dtype=torch.float32))\n",
    "            self.memory.store(transition)\n",
    "\n",
    "            if do_learning:\n",
    "                self.learn()\n",
    "\n",
    "            state = next_state\n",
    "            num_step += 1\n",
    "\n",
    "            if done:\n",
    "                print(\"\\tepisode %d finished after %d steps\" % (e, num_step))\n",
    "                self.episode_durations.append(num_step)\n",
    "                break\n",
    "\n",
    "    def learn(self):\n",
    "        if len(self.memory) < self.batch_size:\n",
    "            return\n",
    "\n",
    "        # Р±РµСЂС‘Рј РјРёРЅРё-Р±Р°С‚С‡ РёР· РїР°РјСЏС‚Рё\n",
    "        transitions = self.memory.sample(self.batch_size)\n",
    "        batch_state, batch_action, batch_next_state, batch_reward = zip(*transitions)\n",
    "\n",
    "        batch_state = Variable(torch.cat(batch_state))\n",
    "        batch_action = Variable(torch.cat(batch_action))\n",
    "        batch_reward = Variable(torch.cat(batch_reward))\n",
    "        batch_next_state = Variable(torch.cat(batch_next_state))\n",
    "\n",
    "        # СЃС‡РёС‚Р°РµРј Р·РЅР°С‡РµРЅРёСЏ С„СѓРЅРєС†РёРё Q\n",
    "        Q = self.model(batch_state).gather(1, batch_action).reshape([self.batch_size])\n",
    "\n",
    "        # РѕС†РµРЅРёРІР°РµРј РѕР¶РёРґР°РµРјС‹Рµ Р·РЅР°С‡РµРЅРёСЏ РїРѕСЃР»Рµ СЌС‚РѕРіРѕ РґРµР№СЃС‚РІРёСЏ\n",
    "        Qmax = self.model(batch_next_state).detach().max(1)[0]\n",
    "        Qnext = batch_reward + (self.gamma * Qmax)\n",
    "\n",
    "        # Рё С…РѕС‚РёРј, С‡С‚РѕР±С‹ Q Р±С‹Р»Рѕ РїРѕС…РѕР¶Рµ РЅР° Qnext -- СЌС‚Рѕ Рё РµСЃС‚СЊ СЃСѓС‚СЊ Q-РѕР±СѓС‡РµРЅРёСЏ\n",
    "        loss = F.smooth_l1_loss(Q, Qnext)\n",
    "\n",
    "        self.optimizer.zero_grad()\n",
    "        loss.backward()\n",
    "        self.optimizer.step()"
   ]
  },
  {
   "cell_type": "code",
   "execution_count": 3,
   "metadata": {},
   "outputs": [],
   "source": [
    "from IPython.display import clear_output"
   ]
  },
  {
   "cell_type": "code",
   "execution_count": 4,
   "metadata": {},
   "outputs": [
    {
     "data": {
      "image/png": "[encoded data removed]",
      "text/plain": [
       "<Figure size 576x576 with 2 Axes>"
      ]
     },
     "metadata": {},
     "output_type": "display_data"
    },
    {
     "name": "stdout",
     "output_type": "stream",
     "text": [
      "crosses win! 1\n"
     ]
    }
   ],
   "source": [
    "N_ROWS, N_COLS, N_WIN = 3, 3, 3\n",
    "\n",
    "class TicTacToe(gym.Env):\n",
    "    def __init__(self, n_rows=N_ROWS, n_cols=N_COLS, n_win=N_WIN):\n",
    "        self.n_rows = n_rows\n",
    "        self.n_cols = n_cols\n",
    "        self.n_win = n_win\n",
    "\n",
    "        self.board = np.zeros((self.n_rows, self.n_cols), dtype=int)\n",
    "        self.gameOver = False\n",
    "        self.boardHash = None\n",
    "        # С…РѕРґ РїРµСЂРІРѕРіРѕ РёРіСЂРѕРєР°\n",
    "        self.curTurn = 1\n",
    "        self.emptySpaces = None\n",
    "        \n",
    "        self.reset()\n",
    "\n",
    "    def getEmptySpaces(self):\n",
    "        if self.emptySpaces is None:\n",
    "            res = np.where(self.board == 0)\n",
    "            self.emptySpaces = np.array([ (i, j) for i,j in zip(res[0], res[1]) ])\n",
    "        return self.emptySpaces\n",
    "\n",
    "    def makeMove(self, player, i, j):\n",
    "        self.board[i, j] = player\n",
    "        self.emptySpaces = None\n",
    "        self.boardHash = None\n",
    "\n",
    "    def getHash(self):\n",
    "        if self.boardHash is None:\n",
    "            self.boardHash = ''.join(['%s' % (x+1) for x in self.board.reshape(self.n_rows * self.n_cols)])\n",
    "        return self.boardHash\n",
    "\n",
    "    def isTerminal(self):\n",
    "        # РїСЂРѕРІРµСЂРёРј, РЅРµ Р·Р°РєРѕРЅС‡РёР»Р°СЃСЊ Р»Рё РёРіСЂР°\n",
    "        cur_marks, cur_p = np.where(self.board == self.curTurn), self.curTurn\n",
    "        for i,j in zip(cur_marks[0], cur_marks[1]):\n",
    "#             print((i,j))\n",
    "            win = False\n",
    "            if i <= self.n_rows - self.n_win:\n",
    "                if np.all(self.board[i:i+self.n_win, j] == cur_p):\n",
    "                    win = True\n",
    "            if not win:\n",
    "                if j <= self.n_cols - self.n_win:\n",
    "                    if np.all(self.board[i,j:j+self.n_win] == cur_p):\n",
    "                        win = True\n",
    "            if not win:\n",
    "                if i <= self.n_rows - self.n_win and j <= self.n_cols - self.n_win:\n",
    "                    if np.all(np.array([ self.board[i+k,j+k] == cur_p for k in range(self.n_win) ])):\n",
    "                        win = True\n",
    "            if not win:\n",
    "                if i <= self.n_rows - self.n_win and j >= self.n_win-1:\n",
    "                    if np.all(np.array([ self.board[i+k,j-k] == cur_p for k in range(self.n_win) ])):\n",
    "                        win = True\n",
    "            if win:\n",
    "                self.gameOver = True\n",
    "                return self.curTurn\n",
    "\n",
    "        if len(self.getEmptySpaces()) == 0:\n",
    "            self.gameOver = True\n",
    "            return 0\n",
    "\n",
    "        self.gameOver = False\n",
    "        return None\n",
    "\n",
    "    def printBoard(self):\n",
    "        for i in range(0, self.n_rows):\n",
    "            print('----'*(self.n_cols)+'-')\n",
    "            out = '| '\n",
    "            for j in range(0, self.n_cols):\n",
    "                if self.board[i, j] == 1:\n",
    "                    token = 'x'\n",
    "                if self.board[i, j] == -1:\n",
    "                    token = 'o'\n",
    "                if self.board[i, j] == 0:\n",
    "                    token = ' '\n",
    "                out += token + ' | '\n",
    "            print(out)\n",
    "        print('----'*(self.n_cols)+'-')\n",
    "\n",
    "    def getState(self):\n",
    "        return (self.getHash(), self.getEmptySpaces(), self.curTurn)\n",
    "\n",
    "    def action_from_int(self, action_int):\n",
    "        return ( int(action_int / self.n_cols), int(action_int % self.n_cols))\n",
    "\n",
    "    def int_from_action(self, action):\n",
    "        return action[0] * self.n_cols + action[1]\n",
    "    \n",
    "    def step(self, action):\n",
    "        if self.board[action[0], action[1]] != 0:\n",
    "            return self.getState(), -10, True, {}\n",
    "        self.makeMove(self.curTurn, action[0], action[1])\n",
    "        reward = self.isTerminal()\n",
    "        self.curTurn = -self.curTurn\n",
    "        return self.getState(), 0 if reward is None else reward, reward is not None, {}\n",
    "\n",
    "    def reset(self):\n",
    "        self.board = np.zeros((self.n_rows, self.n_cols), dtype=int)\n",
    "        self.boardHash = None\n",
    "        self.gameOver = False\n",
    "        self.emptySpaces = None\n",
    "        self.curTurn = 1\n",
    "        return self.getState()\n",
    "\n",
    "def plot_board(env, pi, showtext=True, verbose=True, fontq=20, fontx=60):\n",
    "    clear_output(wait=True)\n",
    "    '''Р РёСЃСѓРµРј РґРѕСЃРєСѓ СЃ РѕС†РµРЅРєР°РјРё РёР· СЃС‚СЂР°С‚РµРіРёРё pi'''\n",
    "    fig, ax = plt.subplots(1, 1, figsize=(8, 8))\n",
    "    X, Y = np.meshgrid(np.arange(0, env.n_rows), np.arange(0, env.n_rows))\n",
    "    Z = np.zeros((env.n_rows, env.n_cols)) + .01\n",
    "    s, actions = env.getHash(), env.getEmptySpaces()\n",
    "    if pi is not None and s in pi.Q:\n",
    "        for i, a in enumerate(actions):\n",
    "            Z[a[0], a[1]] = pi.Q[s][i]\n",
    "    ax.set_xticks([])\n",
    "    ax.set_yticks([])\n",
    "    surf = ax.imshow(Z, cmap=plt.get_cmap('Accent', 10), vmin=-1, vmax=1)\n",
    "    if showtext:\n",
    "        for i,a in enumerate(actions):\n",
    "            if pi is not None and s in pi.Q:\n",
    "                ax.text( a[1] , a[0] , \"%.3f\" % pi.Q[s][i], fontsize=fontq, horizontalalignment='center', verticalalignment='center', color=\"w\" )\n",
    "#             else:\n",
    "#                 ax.text( a[1] , a[0] , \"???\", fontsize=fontq, horizontalalignment='center', verticalalignment='center', color=\"w\" )\n",
    "    for i in range(env.n_rows):\n",
    "        for j in range(env.n_cols):\n",
    "            if env.board[i, j] == -1:\n",
    "                ax.text(j, i, \"O\", fontsize=fontx, horizontalalignment='center', verticalalignment='center', color=\"w\" )\n",
    "            if env.board[i, j] == 1:\n",
    "                ax.text(j, i, \"X\", fontsize=fontx, horizontalalignment='center', verticalalignment='center', color=\"w\" )\n",
    "    cbar = plt.colorbar(surf, ticks=[0, 1])\n",
    "    ax.grid(False)\n",
    "    plt.show()\n",
    "\n",
    "def get_and_print_move(env, pi, s, actions, random=False, verbose=True, fontq=20, fontx=60):\n",
    "    '''Р”РµР»Р°РµРј С…РѕРґ, СЂРёСЃСѓРµРј РґРѕСЃРєСѓ'''\n",
    "    plot_board(env, pi, fontq=fontq, fontx=fontx)\n",
    "    if verbose and (pi is not None):\n",
    "        if s in pi.Q:\n",
    "            for i,a in enumerate(actions):\n",
    "                print(i, a, pi.Q[s][i])\n",
    "        else:\n",
    "            print(\"РЎС‚СЂР°С‚РµРіРёСЏ РЅРµ Р·РЅР°РµС‚, С‡С‚Рѕ РґРµР»Р°С‚СЊ...\")\n",
    "    if random:\n",
    "        return np.random.randint(len(actions))\n",
    "    else:\n",
    "        return pi.getActionGreedy(s, len(actions))\n",
    "\n",
    "def plot_test_game(env, pi1, pi2, random_crosses=False, random_naughts=True, verbose=True, fontq=20, fontx=60):\n",
    "    '''РРіСЂР°РµРј С‚РµСЃС‚РѕРІСѓСЋ РїР°СЂС‚РёСЋ РјРµР¶РґСѓ СЃС‚СЂР°С‚РµРіРёСЏРјРё РёР»Рё СЃРѕ СЃР»СѓС‡Р°Р№РЅС‹РјРё С…РѕРґР°РјРё, СЂРёСЃСѓРµРј С…РѕРґ РёРіСЂС‹'''\n",
    "    done = False\n",
    "    env.reset()\n",
    "    while not done:\n",
    "        s, actions = env.getHash(), env.getEmptySpaces()\n",
    "        if env.curTurn == 1:\n",
    "            a = get_and_print_move(env, pi1, s, actions, random=random_crosses, verbose=verbose, fontq=fontq, fontx=fontx)\n",
    "        else:\n",
    "            a = get_and_print_move(env, pi2, s, actions, random=random_naughts, verbose=verbose, fontq=fontq, fontx=fontx)\n",
    "        observation, reward, done, info = env.step(actions[a])\n",
    "        if reward == 1:\n",
    "            plot_board(env, None, showtext=False, fontq=fontq, fontx=fontx)\n",
    "            print(\"crosses win!\", reward)\n",
    "            \n",
    "        if reward == -1:\n",
    "            plot_board(env, None, showtext=False, fontq=fontq, fontx=fontx)\n",
    "            print(\"naughts win\", reward)\n",
    "            \n",
    "\n",
    "env = TicTacToe(n_rows=3, n_cols=3, n_win=3)\n",
    "plot_test_game(env, None, None, random_crosses=True, random_naughts=True, verbose=True, fontx=30)"
   ]
  },
  {
   "cell_type": "code",
   "execution_count": 5,
   "metadata": {},
   "outputs": [],
   "source": [
    "def indexof(ar, value):\n",
    "    for i, val in enumerate(ar):\n",
    "        if val == value: return i\n",
    "    return -1\n"
   ]
  },
  {
   "cell_type": "code",
   "execution_count": 6,
   "metadata": {},
   "outputs": [],
   "source": [
    "from IPython.display import clear_output\n",
    "\n",
    "import pandas as pd\n",
    "import matplotlib.pyplot as plt\n",
    "%matplotlib inline\n",
    "\n",
    "import random\n",
    "from IPython.display import clear_output"
   ]
  },
  {
   "cell_type": "markdown",
   "metadata": {},
   "source": [
    "# Реализуйте обычное (табличное) Q-обучение. Обучите стратегии крестиков и ноликов для доски 3х3."
   ]
  },
  {
   "cell_type": "code",
   "execution_count": 7,
   "metadata": {},
   "outputs": [],
   "source": [
    "n_size = 3\n",
    "env = TicTacToe(n_size,n_size,n_size)\n",
    "env.reset()\n",
    "all_actions  = env.getEmptySpaces().tolist()\n",
    "\n",
    "q_table = defaultdict(lambda : np.random.uniform(size=n_size*n_size).tolist())"
   ]
  },
  {
   "cell_type": "markdown",
   "metadata": {},
   "source": [
    "## lets test q_table before learning"
   ]
  },
  {
   "cell_type": "code",
   "execution_count": 1018,
   "metadata": {},
   "outputs": [
    {
     "name": "stderr",
     "output_type": "stream",
     "text": [
      "100%|██████████| 1000/1000 [00:00<00:00, 3043.98it/s]\n"
     ]
    },
    {
     "data": {
      "text/plain": [
       "<matplotlib.collections.PathCollection at 0x144e88518>"
      ]
     },
     "execution_count": 1018,
     "metadata": {},
     "output_type": "execute_result"
    },
    {
     "data": {
      "image/png": "[encoded data removed]",
      "text/plain": [
       "<Figure size 432x288 with 1 Axes>"
      ]
     },
     "metadata": {
      "needs_background": "light"
     },
     "output_type": "display_data"
    }
   ],
   "source": [
    "rewards = []\n",
    "for _ in tqdm(range(1000)):\n",
    "    state = env.reset()\n",
    "    done = False\n",
    "    \n",
    "    while not done:\n",
    "        actions = env.getEmptySpaces()\n",
    "        if env.curTurn == -1: # turn of naughts\n",
    "            action = random.choice(actions)\n",
    "        else:\n",
    "            ind = np.argmax(q_table[state[0]])\n",
    "            action = all_actions[ind]\n",
    "        state, reward, done, info = env.step(action)\n",
    "    rewards.append(reward)\n",
    "    \n",
    "plt.scatter(np.arange(0, len(rewards)), rewards, alpha=0.1)"
   ]
  },
  {
   "cell_type": "markdown",
   "metadata": {},
   "source": [
    "## lets train q_table"
   ]
  },
  {
   "cell_type": "code",
   "execution_count": 1019,
   "metadata": {},
   "outputs": [
    {
     "data": {
      "image/png": "[encoded data removed]",
      "text/plain": [
       "<Figure size 432x288 with 1 Axes>"
      ]
     },
     "metadata": {
      "needs_background": "light"
     },
     "output_type": "display_data"
    }
   ],
   "source": [
    "rewards = []\n",
    "\n",
    "# Hyperparameters\n",
    "alpha = 0.2\n",
    "gamma = 0.9\n",
    "epsilon = 0.04\n",
    "\n",
    "# For plotting metrics\n",
    "for i in range(1, 1000001):\n",
    "    state = env.reset()\n",
    "\n",
    "    epochs, penalties, reward, = 0, 0, 0\n",
    "    done = False\n",
    "    cross_actions = []\n",
    "    cross_states = []\n",
    "\n",
    "    while not done:\n",
    "        s, actions = env.getHash(), env.getEmptySpaces()\n",
    "        if env.curTurn == -1: # turn of naughts\n",
    "            action = random.choice(actions)\n",
    "        else:\n",
    "            \n",
    "            if random.uniform(0, 1) < epsilon:\n",
    "                action = random.choice(actions)\n",
    "            else:\n",
    "                while True:\n",
    "                    ind = np.argmax(q_table[state[0]])\n",
    "                    action = all_actions[ind]\n",
    "                    \n",
    "                    if action not in actions:\n",
    "                        q_table[state[0]][indexof(all_actions, action)] = -1000\n",
    "                    else:\n",
    "                        break\n",
    "            cross_actions.append(action)\n",
    "\n",
    "        next_state, reward, done, info = env.step(action) \n",
    "\n",
    "        if done == False:\n",
    "            reward = 0\n",
    "        else:\n",
    "            if env.curTurn == -1: # crosses win\n",
    "                reward = 1\n",
    "            else:\n",
    "                reward = -1\n",
    "                \n",
    "            old_value = q_table[cross_states[-1]][indexof(all_actions, list(cross_actions[-1]))]\n",
    "            next_max = np.max(q_table[next_state[0]])\n",
    "\n",
    "            new_value = (1 - alpha) * old_value + alpha * (reward + gamma * next_max)\n",
    "            q_table[cross_states[-1]][indexof(all_actions, list(cross_actions[-1]))] = new_value\n",
    "\n",
    "            state = next_state\n",
    "        \n",
    "        if env.curTurn == 1:\n",
    "            cross_states.append(state[0])\n",
    "            old_value = q_table[state[0]][indexof(all_actions, list(cross_actions[-1]))]\n",
    "            next_max = np.max(q_table[next_state[0]])\n",
    "\n",
    "            new_value = (1 - alpha) * old_value + alpha * (reward + gamma * next_max)\n",
    "            q_table[state[0]][indexof(all_actions, list(cross_actions[-1]))] = new_value\n",
    "\n",
    "\n",
    "            state = next_state\n",
    "\n",
    "    rewards.append(reward)\n",
    "    \n",
    "    if i % 10000 == 0:\n",
    "        clear_output(wait=True)\n",
    "        \n",
    "        plt.figure()\n",
    "        pd.Series(rewards).rolling(500).mean().plot()\n",
    "        plt.show()\n",
    "        plt.close()"
   ]
  },
  {
   "cell_type": "markdown",
   "metadata": {},
   "source": [
    "## let's see how it improved"
   ]
  },
  {
   "cell_type": "code",
   "execution_count": 1020,
   "metadata": {},
   "outputs": [
    {
     "name": "stderr",
     "output_type": "stream",
     "text": [
      "100%|██████████| 1000/1000 [00:00<00:00, 3506.56it/s]\n"
     ]
    },
    {
     "data": {
      "text/plain": [
       "<matplotlib.collections.PathCollection at 0x13e913a90>"
      ]
     },
     "execution_count": 1020,
     "metadata": {},
     "output_type": "execute_result"
    },
    {
     "data": {
      "image/png": "[encoded data removed]",
      "text/plain": [
       "<Figure size 432x288 with 1 Axes>"
      ]
     },
     "metadata": {
      "needs_background": "light"
     },
     "output_type": "display_data"
    }
   ],
   "source": [
    "rewards = []\n",
    "for _ in tqdm(range(1000)):\n",
    "    state = env.reset()\n",
    "    done = False\n",
    "    \n",
    "    while not done:\n",
    "        actions = env.getEmptySpaces()\n",
    "        if env.curTurn == -1: # turn of naughts\n",
    "            action = random.choice(actions)\n",
    "        else:\n",
    "            ind = np.argmax(q_table[state[0]])\n",
    "            action = all_actions[ind]\n",
    "        state, reward, done, info = env.step(action)\n",
    "    rewards.append(reward)\n",
    "\n",
    "plt.scatter(np.arange(0, len(rewards)), rewards, alpha=0.1)"
   ]
  },
  {
   "cell_type": "markdown",
   "metadata": {},
   "source": [
    "# Попробуйте обучить стратегии крестиков и ноликов для доски 4х4 и/или 5х5."
   ]
  },
  {
   "cell_type": "code",
   "execution_count": 1025,
   "metadata": {},
   "outputs": [],
   "source": [
    "n_size = 4\n",
    "env = TicTacToe(n_size,n_size,n_size)\n",
    "env.reset()\n",
    "all_actions  = env.getEmptySpaces().tolist()\n",
    "\n",
    "q_table = defaultdict(lambda : np.random.uniform(size=n_size*n_size).tolist())"
   ]
  },
  {
   "cell_type": "markdown",
   "metadata": {},
   "source": [
    "## lets test q_table before learning"
   ]
  },
  {
   "cell_type": "code",
   "execution_count": 1026,
   "metadata": {},
   "outputs": [
    {
     "name": "stderr",
     "output_type": "stream",
     "text": [
      "100%|██████████| 1000/1000 [00:00<00:00, 1955.00it/s]\n"
     ]
    },
    {
     "data": {
      "text/plain": [
       "<matplotlib.collections.PathCollection at 0x13eda1f98>"
      ]
     },
     "execution_count": 1026,
     "metadata": {},
     "output_type": "execute_result"
    },
    {
     "data": {
      "image/png": "[encoded data removed]",
      "text/plain": [
       "<Figure size 432x288 with 1 Axes>"
      ]
     },
     "metadata": {
      "needs_background": "light"
     },
     "output_type": "display_data"
    }
   ],
   "source": [
    "rewards = []\n",
    "for _ in tqdm(range(1000)):\n",
    "    state = env.reset()\n",
    "    done = False\n",
    "    \n",
    "    while not done:\n",
    "        actions = env.getEmptySpaces()\n",
    "        if env.curTurn == -1: # turn of naughts\n",
    "            action = random.choice(actions)\n",
    "        else:\n",
    "            ind = np.argmax(q_table[state[0]])\n",
    "            action = all_actions[ind]\n",
    "        state, reward, done, info = env.step(action)\n",
    "    rewards.append(reward)\n",
    "    \n",
    "plt.scatter(np.arange(0, len(rewards)), rewards, alpha=0.1)"
   ]
  },
  {
   "cell_type": "markdown",
   "metadata": {},
   "source": [
    "## lets compare with pure random"
   ]
  },
  {
   "cell_type": "code",
   "execution_count": 1027,
   "metadata": {},
   "outputs": [
    {
     "name": "stderr",
     "output_type": "stream",
     "text": [
      "100%|██████████| 1000/1000 [00:00<00:00, 1025.40it/s]\n"
     ]
    },
    {
     "data": {
      "text/plain": [
       "<matplotlib.collections.PathCollection at 0x14159f6a0>"
      ]
     },
     "execution_count": 1027,
     "metadata": {},
     "output_type": "execute_result"
    },
    {
     "data": {
      "image/png": "[encoded data removed]",
      "text/plain": [
       "<Figure size 432x288 with 1 Axes>"
      ]
     },
     "metadata": {
      "needs_background": "light"
     },
     "output_type": "display_data"
    }
   ],
   "source": [
    "rewards = []\n",
    "for _ in tqdm(range(1000)):\n",
    "    state = env.reset()\n",
    "    done = False\n",
    "    \n",
    "    while not done:\n",
    "        actions = env.getEmptySpaces()\n",
    "        action = random.choice(actions)\n",
    "        state, reward, done, info = env.step(action)\n",
    "    rewards.append(reward)\n",
    "    \n",
    "plt.scatter(np.arange(0, len(rewards)), rewards, alpha=0.1)"
   ]
  },
  {
   "cell_type": "markdown",
   "metadata": {},
   "source": [
    "## lets train q_table"
   ]
  },
  {
   "cell_type": "code",
   "execution_count": 1028,
   "metadata": {},
   "outputs": [
    {
     "data": {
      "image/png": "[encoded data removed]",
      "text/plain": [
       "<Figure size 432x288 with 1 Axes>"
      ]
     },
     "metadata": {
      "needs_background": "light"
     },
     "output_type": "display_data"
    }
   ],
   "source": [
    "rewards = []\n",
    "\n",
    "# Hyperparameters\n",
    "alpha = 0.2\n",
    "gamma = 0.9\n",
    "epsilon = 0.04\n",
    "\n",
    "# For plotting metrics\n",
    "for i in range(1, 1000001):\n",
    "    state = env.reset()\n",
    "\n",
    "    epochs, penalties, reward, = 0, 0, 0\n",
    "    done = False\n",
    "    cross_actions = []\n",
    "    cross_states = []\n",
    "\n",
    "    while not done:\n",
    "        s, actions = env.getHash(), env.getEmptySpaces()\n",
    "        if env.curTurn == -1: # turn of naughts\n",
    "            action = random.choice(actions)\n",
    "        else:\n",
    "            \n",
    "            if random.uniform(0, 1) < epsilon:\n",
    "                action = random.choice(actions)\n",
    "            else:\n",
    "                while True:\n",
    "                    ind = np.argmax(q_table[state[0]])\n",
    "                    action = all_actions[ind]\n",
    "                    \n",
    "                    if action not in actions:\n",
    "                        q_table[state[0]][indexof(all_actions, action)] = -1000\n",
    "                    else:\n",
    "                        break\n",
    "            cross_actions.append(action)\n",
    "\n",
    "        next_state, reward, done, info = env.step(action) \n",
    "\n",
    "        if done == False:\n",
    "            reward = 0\n",
    "        else:\n",
    "            if env.curTurn == -1: # crosses win\n",
    "                reward = 1\n",
    "            else:\n",
    "                reward = -1\n",
    "                \n",
    "            old_value = q_table[cross_states[-1]][indexof(all_actions, list(cross_actions[-1]))]\n",
    "            next_max = np.max(q_table[next_state[0]])\n",
    "\n",
    "            new_value = (1 - alpha) * old_value + alpha * (reward + gamma * next_max)\n",
    "            q_table[cross_states[-1]][indexof(all_actions, list(cross_actions[-1]))] = new_value\n",
    "\n",
    "            state = next_state\n",
    "        \n",
    "        if env.curTurn == 1:\n",
    "            cross_states.append(state[0])\n",
    "            old_value = q_table[state[0]][indexof(all_actions, list(cross_actions[-1]))]\n",
    "            next_max = np.max(q_table[next_state[0]])\n",
    "\n",
    "            new_value = (1 - alpha) * old_value + alpha * (reward + gamma * next_max)\n",
    "            q_table[state[0]][indexof(all_actions, list(cross_actions[-1]))] = new_value\n",
    "\n",
    "\n",
    "            state = next_state\n",
    "\n",
    "    rewards.append(reward)\n",
    "    \n",
    "    if i % 10000 == 0:\n",
    "        clear_output(wait=True)\n",
    "        \n",
    "        plt.figure()\n",
    "        pd.Series(rewards).rolling(500).mean().plot()\n",
    "        plt.show()\n",
    "        plt.close()"
   ]
  },
  {
   "cell_type": "markdown",
   "metadata": {},
   "source": [
    "## let's see how it improved"
   ]
  },
  {
   "cell_type": "code",
   "execution_count": 1029,
   "metadata": {},
   "outputs": [
    {
     "name": "stderr",
     "output_type": "stream",
     "text": [
      "100%|██████████| 1000/1000 [00:00<00:00, 1682.79it/s]\n"
     ]
    },
    {
     "data": {
      "text/plain": [
       "<matplotlib.collections.PathCollection at 0x1643090b8>"
      ]
     },
     "execution_count": 1029,
     "metadata": {},
     "output_type": "execute_result"
    },
    {
     "data": {
      "image/png": "[encoded data removed]",
      "text/plain": [
       "<Figure size 432x288 with 1 Axes>"
      ]
     },
     "metadata": {
      "needs_background": "light"
     },
     "output_type": "display_data"
    }
   ],
   "source": [
    "rewards = []\n",
    "for _ in tqdm(range(1000)):\n",
    "    state = env.reset()\n",
    "    done = False\n",
    "    \n",
    "    while not done:\n",
    "        actions = env.getEmptySpaces()\n",
    "        if env.curTurn == -1: # turn of naughts\n",
    "            action = random.choice(actions)\n",
    "        else:\n",
    "            ind = np.argmax(q_table[state[0]])\n",
    "            action = all_actions[ind]\n",
    "        state, reward, done, info = env.step(action)\n",
    "    rewards.append(reward)\n",
    "\n",
    "plt.scatter(np.arange(0, len(rewards)), rewards, alpha=0.1)"
   ]
  },
  {
   "cell_type": "markdown",
   "metadata": {},
   "source": [
    "# Реализуйте DQN с нейронной сетью, обучите стратегии крестиков и ноликов. Замечание: скорее всего, experience replay потребуется сразу же."
   ]
  },
  {
   "cell_type": "code",
   "execution_count": 1030,
   "metadata": {},
   "outputs": [],
   "source": [
    "class TicTacToeWrapper():\n",
    "    \"\"\"\n",
    "    wrapper that imitates only one player with random response from opponent\n",
    "    \"\"\"\n",
    "    def __init__(self, board_size, first_turn=True):\n",
    "        self.board_size = board_size\n",
    "        self.first_turn = first_turn\n",
    "        \n",
    "        self.env = TicTacToe(board_size, board_size, board_size)\n",
    "        self.actions = self.env.getEmptySpaces().tolist()\n",
    "        \n",
    "        self.n_turns = 0\n",
    "        \n",
    "        if first_turn == False:\n",
    "            assert False ,'not implemented'\n",
    "            \n",
    "    \n",
    "    def step(self, action_index):\n",
    "        state, reward, done, info = self.env.step(self.actions[action_index])\n",
    "        self.n_turns += 1\n",
    "        \n",
    "        if not done:\n",
    "            done = self.simulate_opponent()\n",
    "            \n",
    "            if done:\n",
    "                # we lost\n",
    "                return self.env.board, -1, True, info\n",
    "            else:\n",
    "                # play further\n",
    "                return self.env.board, 0, False, {}\n",
    "            \n",
    "        else:\n",
    "            if reward == -10:\n",
    "                # wrong move\n",
    "                return self.env.board, -10, True, info\n",
    "            else:\n",
    "                if self.n_turns == self.board_size * self.board_size:\n",
    "                    # draw\n",
    "                    return self.env.board, -0.5, True, info\n",
    "                else:\n",
    "                    # we won\n",
    "                    return self.env.board, 1, True, info\n",
    "        \n",
    "            \n",
    "    def simulate_opponent(self):\n",
    "        actions = self.env.getEmptySpaces()\n",
    "        action = random.choice(actions)\n",
    "        state, reward, done, info = self.env.step(action)\n",
    "        self.n_turns += 1\n",
    "        return done\n",
    "        \n",
    "    def reset(self):\n",
    "        self.n_turns = 0\n",
    "        self.done = None\n",
    "        if self.first_turn == False:\n",
    "            assert False ,'not implemented'\n",
    "        self.env.reset()\n",
    "        return self.env.board, 0, False, {}"
   ]
  },
  {
   "cell_type": "code",
   "execution_count": 1032,
   "metadata": {},
   "outputs": [],
   "source": [
    "class TicTacDQNetwork(nn.Module):\n",
    "    def __init__(self, board_size):\n",
    "        self.board_size = board_size\n",
    "        nn.Module.__init__(self)\n",
    "        self.conv1 = torch.nn.Conv2d(1, 16 , board_size, padding=(2,2))\n",
    "        self.conv2 = torch.nn.Conv2d(16, 3 , board_size, padding=(2,2))\n",
    "        self.l1 = nn.Linear(board_size * board_size * 3, board_size * board_size)\n",
    "\n",
    "\n",
    "    def forward(self, x):\n",
    "        x = F.relu(self.conv1(x))\n",
    "        x = F.relu(self.conv2(x))\n",
    "        x = self.l1(x.view(-1, self.board_size * self.board_size * 3))\n",
    "        return x\n",
    "\n",
    "\n",
    "class TicTacDQN():\n",
    "    def __init__(self, board_size):\n",
    "        self.board_size = board_size\n",
    "        self.env = TicTacToeWrapper(board_size)\n",
    "        self.model = TicTacDQNetwork(board_size)\n",
    "        self.memory = ReplayMemory(10000)\n",
    "        self.optimizer = optim.Adam(self.model.parameters(), 0.001)\n",
    "        self.steps_done = 0\n",
    "        self.episode_durations = []\n",
    "        \n",
    "        self.gamma = 0.8\n",
    "        self.batch_size = 64\n",
    "        \n",
    "        self.eps_init, self.eps_final, self.eps_decay = 0.9, 0.05, 200\n",
    "        self.num_step = 0\n",
    "        self.rewards = []\n",
    "\n",
    "    def select_greedy_action(self, state):\n",
    "        return self.model(state).data.max(1)[1].view(1, 1)\n",
    "\n",
    "    def select_action(self, state):\n",
    "        sample = random.random()\n",
    "        self.num_step += 1\n",
    "        eps_threshold = self.eps_final + (self.eps_init - self.eps_final) * math.exp(-1. * self.num_step / self.eps_decay)\n",
    "        if sample > eps_threshold:\n",
    "            return self.select_greedy_action(state)\n",
    "        else:\n",
    "            return torch.tensor([[random.randrange(self.board_size * self.board_size)]], dtype=torch.int64)\n",
    "        \n",
    "    def run_episode(self, e=0, do_learning=True, greedy=False):\n",
    "        state, reward, done, info  = self.env.reset()\n",
    "        num_step = 0\n",
    "        while True:\n",
    "\n",
    "            state_tensor = torch.tensor(state, dtype=torch.float32).reshape(1,1,self.board_size, self.board_size)\n",
    "            with torch.no_grad():\n",
    "                if greedy:\n",
    "                    action = self.select_greedy_action(state_tensor)\n",
    "                else:\n",
    "                    action = self.select_action(state_tensor)\n",
    "                    \n",
    "            next_state, reward, done, _ = self.env.step(action.numpy()[0][0])\n",
    "            next_state_tensor = torch.tensor(next_state, dtype=torch.float32).reshape(1,1,self.board_size, self.board_size)\n",
    "\n",
    "            transition = (state_tensor, action, next_state_tensor, torch.tensor([reward], dtype=torch.float32))\n",
    "            self.memory.store(transition)\n",
    "\n",
    "            if do_learning:\n",
    "                self.learn()\n",
    "\n",
    "            state = next_state\n",
    "            num_step += 1\n",
    "\n",
    "            if done:\n",
    "                self.episode_durations.append(num_step)\n",
    "                self.rewards.append(reward)\n",
    "                break\n",
    "\n",
    "    def learn(self):\n",
    "        if len(self.memory) < self.batch_size:\n",
    "            return\n",
    "\n",
    "        # берём мини-батч из памяти\n",
    "        transitions = self.memory.sample(self.batch_size)\n",
    "        batch_state, batch_action, batch_next_state, batch_reward = zip(*transitions)\n",
    "\n",
    "        batch_state = Variable(torch.cat(batch_state))\n",
    "        batch_action = Variable(torch.cat(batch_action))\n",
    "        batch_reward = Variable(torch.cat(batch_reward))\n",
    "        batch_next_state = Variable(torch.cat(batch_next_state))\n",
    "\n",
    "        # считаем значения функции Q\n",
    "        Q = self.model(batch_state).gather(1, batch_action).reshape([self.batch_size])\n",
    "\n",
    "        # оцениваем ожидаемые значения после этого действия\n",
    "        Qmax = self.model(batch_next_state).detach().max(1)[0]\n",
    "        Qnext = batch_reward + (self.gamma * Qmax)\n",
    "\n",
    "        # и хотим, чтобы Q было похоже на Qnext -- это и есть суть Q-обучения\n",
    "        loss = F.smooth_l1_loss(Q, Qnext)\n",
    "\n",
    "        self.optimizer.zero_grad()\n",
    "        loss.backward()\n",
    "        self.optimizer.step()"
   ]
  },
  {
   "cell_type": "code",
   "execution_count": null,
   "metadata": {},
   "outputs": [],
   "source": []
  },
  {
   "cell_type": "code",
   "execution_count": 1035,
   "metadata": {},
   "outputs": [],
   "source": [
    "tictac_dqn = TicTacDQN(5)"
   ]
  },
  {
   "cell_type": "code",
   "execution_count": 1040,
   "metadata": {},
   "outputs": [
    {
     "name": "stderr",
     "output_type": "stream",
     "text": [
      "100%|██████████| 1000/1000 [00:04<00:00, 229.21it/s]\n"
     ]
    },
    {
     "data": {
      "text/plain": [
       "<matplotlib.collections.PathCollection at 0x16444c630>"
      ]
     },
     "execution_count": 1040,
     "metadata": {},
     "output_type": "execute_result"
    },
    {
     "data": {
      "image/png": "[encoded data removed]",
      "text/plain": [
       "<Figure size 432x288 with 1 Axes>"
      ]
     },
     "metadata": {
      "needs_background": "light"
     },
     "output_type": "display_data"
    }
   ],
   "source": [
    "wins = []\n",
    "for i in tqdm(range(1000)):\n",
    "    tictac_dqn.run_episode(e=0, greedy=True, do_learning=False)\n",
    "    reward = tictac_dqn.rewards[-1]\n",
    "    wins.append(reward)\n",
    "\n",
    "plt.scatter(np.linspace(0, 1, len(wins)), wins, alpha=0.2)"
   ]
  },
  {
   "cell_type": "code",
   "execution_count": 1041,
   "metadata": {},
   "outputs": [
    {
     "name": "stderr",
     "output_type": "stream",
     "text": [
      "100%|██████████| 30000/30000 [13:02<00:00, 38.32it/s]\n"
     ]
    }
   ],
   "source": [
    "for i in tqdm(range(30000)):\n",
    "    tictac_dqn.run_episode(e=0.04)    "
   ]
  },
  {
   "cell_type": "code",
   "execution_count": 1044,
   "metadata": {},
   "outputs": [
    {
     "data": {
      "text/plain": [
       "<matplotlib.axes._subplots.AxesSubplot at 0x164522f28>"
      ]
     },
     "execution_count": 1044,
     "metadata": {},
     "output_type": "execute_result"
    },
    {
     "data": {
      "image/png": "[encoded data removed]",
      "text/plain": [
       "<Figure size 432x288 with 1 Axes>"
      ]
     },
     "metadata": {
      "needs_background": "light"
     },
     "output_type": "display_data"
    }
   ],
   "source": [
    "pd.Series(tictac_dqn.rewards).rolling(500).mean().plot()"
   ]
  },
  {
   "cell_type": "code",
   "execution_count": 1043,
   "metadata": {},
   "outputs": [
    {
     "name": "stderr",
     "output_type": "stream",
     "text": [
      "100%|██████████| 1000/1000 [00:02<00:00, 367.94it/s]\n"
     ]
    },
    {
     "data": {
      "text/plain": [
       "<matplotlib.collections.PathCollection at 0x1644e9ef0>"
      ]
     },
     "execution_count": 1043,
     "metadata": {},
     "output_type": "execute_result"
    },
    {
     "data": {
      "image/png": "[encoded data removed]",
      "text/plain": [
       "<Figure size 432x288 with 1 Axes>"
      ]
     },
     "metadata": {
      "needs_background": "light"
     },
     "output_type": "display_data"
    }
   ],
   "source": [
    "wins = []\n",
    "for i in tqdm(range(1000)):\n",
    "    tictac_dqn.run_episode(e=0, greedy=True, do_learning=False)\n",
    "    reward = tictac_dqn.rewards[-1]\n",
    "    wins.append(reward)\n",
    "\n",
    "plt.scatter(np.linspace(0, 1, len(wins)), wins, alpha=0.2)"
   ]
  },
  {
   "cell_type": "markdown",
   "metadata": {},
   "source": [
    "# Реализуйте Double DQN и/или Dueling DQN."
   ]
  },
  {
   "cell_type": "code",
   "execution_count": 1049,
   "metadata": {},
   "outputs": [],
   "source": [
    "class TicTacDuelingDQNetwork(nn.Module):\n",
    "\n",
    "    def __init__(self, board_size):\n",
    "        super(TicTacDuelingDQNetwork, self).__init__()\n",
    "        \n",
    "        self.board_size = board_size\n",
    "        \n",
    "        self.conv = nn.Sequential(\n",
    "            nn.Conv2d(1, 5, kernel_size=3, stride=1, padding=1),\n",
    "            nn.ReLU(),\n",
    "            nn.Conv2d(5, 3, kernel_size=3, stride=1, padding=1),\n",
    "            nn.ReLU(),\n",
    "#             nn.Conv2d(32, 64, kernel_size=4, stride=2),\n",
    "#             nn.ReLU(),\n",
    "#             nn.Conv2d(64, 64, kernel_size=3, stride=1),\n",
    "#             nn.ReLU()\n",
    "        )\n",
    "        \n",
    "        self.fc_input_dim = self.feature_size()\n",
    "        \n",
    "        self.value_stream = nn.Sequential(\n",
    "            nn.Linear(self.fc_input_dim, 128),\n",
    "            nn.ReLU(),\n",
    "            nn.Linear(128, 1)\n",
    "        )\n",
    "\n",
    "        self.advantage_stream = nn.Sequential(\n",
    "            nn.Linear(self.fc_input_dim, 128),\n",
    "            nn.ReLU(),\n",
    "            nn.Linear(128, self.board_size * self.board_size)\n",
    "        )\n",
    "\n",
    "    def forward(self, state):\n",
    "        features = self.conv(state)\n",
    "        features = features.view(features.size(0), -1)\n",
    "        values = self.value_stream(features)\n",
    "        advantages = self.advantage_stream(features)\n",
    "        qvals = values + (advantages - advantages.mean())\n",
    "        \n",
    "        return qvals\n",
    "\n",
    "    def feature_size(self):\n",
    "        return self.conv(torch.zeros(1, 1, self.board_size, self.board_size)).view(1, -1).size(1)\n",
    "\n",
    "\n",
    "# https://towardsdatascience.com/dueling-deep-q-networks-81ffab672751\n",
    "class TicTacDuelingDQN():\n",
    "    def __init__(self, board_size):\n",
    "        self.board_size = board_size\n",
    "        self.env = TicTacToeWrapper(board_size)\n",
    "        self.model = TicTacDuelingDQNetwork(board_size)\n",
    "        self.memory = ReplayMemory(10000)\n",
    "        self.optimizer = optim.Adam(self.model.parameters(), 0.001)\n",
    "        self.steps_done = 0\n",
    "        self.episode_durations = []\n",
    "        \n",
    "        self.gamma = 0.8\n",
    "        self.batch_size = 64\n",
    "        \n",
    "        self.eps_init, self.eps_final, self.eps_decay = 0.9, 0.05, 200\n",
    "        self.num_step = 0\n",
    "        self.rewards = []\n",
    "\n",
    "    def select_greedy_action(self, state):\n",
    "        return self.model(state).data.max(1)[1].view(1, 1)\n",
    "    \n",
    "#     def select_random_action(self):\n",
    "        \n",
    "    \n",
    "\n",
    "    def select_action(self, state):\n",
    "        sample = random.random()\n",
    "        self.num_step += 1\n",
    "        eps_threshold = self.eps_final + (self.eps_init - self.eps_final) * math.exp(-1. * self.num_step / self.eps_decay)\n",
    "        if sample > eps_threshold:\n",
    "            return self.select_greedy_action(state)\n",
    "        else:\n",
    "            return torch.tensor([[random.randrange(self.board_size * self.board_size)]], dtype=torch.int64)\n",
    "        \n",
    "    def run_episode(self, e=0, do_learning=True, greedy=False):\n",
    "        state, reward, done, info  = self.env.reset()\n",
    "        num_step = 0\n",
    "        while True:\n",
    "\n",
    "            state_tensor = torch.tensor(state, dtype=torch.float32).reshape(1,1,self.board_size, self.board_size)\n",
    "            with torch.no_grad():\n",
    "                if greedy:\n",
    "                    action = self.select_greedy_action(state_tensor)\n",
    "                else:\n",
    "                    action = self.select_action(state_tensor)\n",
    "                    \n",
    "            next_state, reward, done, _ = self.env.step(action.numpy()[0][0])\n",
    "            next_state_tensor = torch.tensor(next_state, dtype=torch.float32).reshape(1,1,self.board_size, self.board_size)\n",
    "\n",
    "            transition = (state_tensor, action, next_state_tensor, torch.tensor([reward], dtype=torch.float32))\n",
    "            self.memory.store(transition)\n",
    "\n",
    "            if do_learning:\n",
    "#                 if random.random() < 0.05 and len(self.memory) > 256:\n",
    "#                     self.rebalance()\n",
    "                self.learn()\n",
    "\n",
    "            state = next_state\n",
    "            num_step += 1\n",
    "\n",
    "            if done:\n",
    "#                 print(\"\\tepisode %d finished after %d steps\" % (e, num_step))\n",
    "                self.episode_durations.append(num_step)\n",
    "                self.rewards.append(reward)\n",
    "                break\n",
    "            \n",
    "    def rebalance(self):\n",
    "        batch_size = 256\n",
    "        data = self.memory.memory\n",
    "        diffs = []\n",
    "        \n",
    "        \n",
    "        with torch.no_grad():\n",
    "            for i in range((len(data) // batch_size) + 1):\n",
    "                batch = data[i*batch_size:(i+1)*batch_size]\n",
    "#                 print(len(batch))\n",
    "                batch_state, batch_action, batch_next_state, batch_reward = zip(*batch)\n",
    "                \n",
    "                \n",
    "                batch_state = Variable(torch.cat(batch_state))\n",
    "                batch_action = Variable(torch.cat(batch_action))\n",
    "                batch_reward = Variable(torch.cat(batch_reward))\n",
    "                batch_next_state = Variable(torch.cat(batch_next_state))\n",
    "\n",
    "                # считаем значения функции Q\n",
    "#                 print(batch_state.shape)\n",
    "                Q = self.model(batch_state).gather(1, batch_action).reshape([len(batch)])\n",
    "\n",
    "                # оцениваем ожидаемые значения после этого действия\n",
    "                Qmax = self.model(batch_next_state).detach().max(1)[0]\n",
    "                Qnext = batch_reward + (self.gamma * Qmax)\n",
    "                \n",
    "                diff = F.mse_loss(Q, Qnext, reduction='none').numpy()\n",
    "                diffs.extend(diff.tolist())\n",
    "                print(diff)\n",
    "        self.memory.set_weights(diffs)\n",
    "\n",
    "    def learn(self):\n",
    "        if len(self.memory) < self.batch_size:\n",
    "            return\n",
    "\n",
    "        # берём мини-батч из памяти\n",
    "        transitions = self.memory.sample(self.batch_size)\n",
    "        batch_state, batch_action, batch_next_state, batch_reward = zip(*transitions)\n",
    "\n",
    "        batch_state = Variable(torch.cat(batch_state))\n",
    "        batch_action = Variable(torch.cat(batch_action))\n",
    "        batch_reward = Variable(torch.cat(batch_reward))\n",
    "        batch_next_state = Variable(torch.cat(batch_next_state))\n",
    "\n",
    "        # считаем значения функции Q\n",
    "        Q = self.model(batch_state).gather(1, batch_action).reshape([self.batch_size])\n",
    "\n",
    "        # оцениваем ожидаемые значения после этого действия\n",
    "        Qmax = self.model(batch_next_state).detach().max(1)[0]\n",
    "        Qnext = batch_reward + (self.gamma * Qmax)\n",
    "\n",
    "        # и хотим, чтобы Q было похоже на Qnext -- это и есть суть Q-обучения\n",
    "        loss = F.smooth_l1_loss(Q, Qnext)\n",
    "\n",
    "        self.optimizer.zero_grad()\n",
    "        loss.backward()\n",
    "        self.optimizer.step()"
   ]
  },
  {
   "cell_type": "code",
   "execution_count": 1054,
   "metadata": {},
   "outputs": [],
   "source": [
    "tictac_ddqn = TicTacDuelingDQN(5)"
   ]
  },
  {
   "cell_type": "code",
   "execution_count": 1055,
   "metadata": {},
   "outputs": [
    {
     "name": "stderr",
     "output_type": "stream",
     "text": [
      "100%|██████████| 1000/1000 [00:01<00:00, 523.17it/s]\n"
     ]
    },
    {
     "data": {
      "text/plain": [
       "<matplotlib.collections.PathCollection at 0x1640ed4e0>"
      ]
     },
     "execution_count": 1055,
     "metadata": {},
     "output_type": "execute_result"
    },
    {
     "data": {
      "image/png": "[encoded data removed]",
      "text/plain": [
       "<Figure size 432x288 with 1 Axes>"
      ]
     },
     "metadata": {
      "needs_background": "light"
     },
     "output_type": "display_data"
    }
   ],
   "source": [
    "wins = []\n",
    "for i in tqdm(range(1000)):\n",
    "    tictac_ddqn.run_episode(e=0, greedy=True, do_learning=False)\n",
    "    reward = tictac_ddqn.rewards[-1]\n",
    "    wins.append(reward)\n",
    "\n",
    "plt.scatter(np.linspace(0, 1, len(wins)), wins, alpha=0.2)"
   ]
  },
  {
   "cell_type": "code",
   "execution_count": 1056,
   "metadata": {},
   "outputs": [
    {
     "name": "stderr",
     "output_type": "stream",
     "text": [
      "100%|██████████| 30000/30000 [18:50<00:00, 26.54it/s]\n"
     ]
    }
   ],
   "source": [
    "for i in tqdm(range(30000)):\n",
    "    tictac_ddqn.run_episode(e=0.05) "
   ]
  },
  {
   "cell_type": "code",
   "execution_count": 1057,
   "metadata": {},
   "outputs": [
    {
     "data": {
      "text/plain": [
       "<matplotlib.axes._subplots.AxesSubplot at 0x1645f70b8>"
      ]
     },
     "execution_count": 1057,
     "metadata": {},
     "output_type": "execute_result"
    },
    {
     "data": {
      "image/png": "[encoded data removed]",
      "text/plain": [
       "<Figure size 432x288 with 1 Axes>"
      ]
     },
     "metadata": {
      "needs_background": "light"
     },
     "output_type": "display_data"
    }
   ],
   "source": [
    "pd.Series(tictac_ddqn.rewards).rolling(50).mean().plot()"
   ]
  },
  {
   "cell_type": "code",
   "execution_count": null,
   "metadata": {},
   "outputs": [],
   "source": []
  },
  {
   "cell_type": "code",
   "execution_count": 1058,
   "metadata": {},
   "outputs": [
    {
     "name": "stderr",
     "output_type": "stream",
     "text": [
      "100%|██████████| 1000/1000 [00:03<00:00, 289.64it/s]\n"
     ]
    },
    {
     "data": {
      "text/plain": [
       "<matplotlib.collections.PathCollection at 0x14192bda0>"
      ]
     },
     "execution_count": 1058,
     "metadata": {},
     "output_type": "execute_result"
    },
    {
     "data": {
      "image/png": "[encoded data removed]",
      "text/plain": [
       "<Figure size 432x288 with 1 Axes>"
      ]
     },
     "metadata": {
      "needs_background": "light"
     },
     "output_type": "display_data"
    }
   ],
   "source": [
    "wins = []\n",
    "for i in tqdm(range(1000)):\n",
    "    tictac_ddqn.run_episode(e=0, greedy=True, do_learning=False)\n",
    "    reward = tictac_ddqn.rewards[-1]\n",
    "    wins.append(reward)\n",
    "\n",
    "plt.scatter(np.linspace(0, 1, len(wins)), wins, alpha=0.2)"
   ]
  },
  {
   "cell_type": "markdown",
   "metadata": {},
   "source": [
    "# Реализуйте rollouts со случайной стратегией и (опционально) rollouts с неслучайной, но простой стратегией (например, основанной на дополнении нескольких паттернов или на Q-функции, которая у вас получилась в первом пункте)."
   ]
  },
  {
   "cell_type": "code",
   "execution_count": 1059,
   "metadata": {},
   "outputs": [],
   "source": [
    "from copy import deepcopy"
   ]
  },
  {
   "cell_type": "code",
   "execution_count": 1060,
   "metadata": {},
   "outputs": [],
   "source": [
    "def rollout(env, random_strategy=True, max_depth=None, play_as_crosses=True):\n",
    "    assert random_strategy == True, 'not implemented'\n",
    "    \n",
    "    env = deepcopy(env)\n",
    "    done = env.isTerminal() is not None\n",
    "    \n",
    "    while not done:\n",
    "        action = random.choice(env.emptySpaces)\n",
    "        state, reward, done, info = env.step(action)\n",
    "        \n",
    "    if play_as_crosses == False:\n",
    "        reward = -reward\n",
    "    return reward"
   ]
  },
  {
   "cell_type": "code",
   "execution_count": 1065,
   "metadata": {},
   "outputs": [],
   "source": [
    "env = TicTacToe(3,3,3)"
   ]
  },
  {
   "cell_type": "code",
   "execution_count": 1066,
   "metadata": {
    "scrolled": true
   },
   "outputs": [
    {
     "data": {
      "text/plain": [
       "array([[ 1,  0,  0],\n",
       "       [ 0, -1, -1],\n",
       "       [ 0,  0,  1]])"
      ]
     },
     "execution_count": 1066,
     "metadata": {},
     "output_type": "execute_result"
    }
   ],
   "source": [
    "env.reset()\n",
    "\n",
    "env.step([0,0]) #x\n",
    "env.step([1,2]) #o\n",
    "env.step([2,2]) #x\n",
    "env.step([1,1]) #o\n",
    "\n",
    "env.board"
   ]
  },
  {
   "cell_type": "code",
   "execution_count": 1067,
   "metadata": {
    "scrolled": true
   },
   "outputs": [
    {
     "data": {
      "text/plain": [
       "-0.0954"
      ]
     },
     "execution_count": 1067,
     "metadata": {},
     "output_type": "execute_result"
    }
   ],
   "source": [
    "np.mean([rollout(env) for _ in range(10000)])"
   ]
  },
  {
   "cell_type": "code",
   "execution_count": 1068,
   "metadata": {},
   "outputs": [
    {
     "data": {
      "text/plain": [
       "array([[-1,  0,  0],\n",
       "       [ 0,  1,  0],\n",
       "       [ 0,  0,  0]])"
      ]
     },
     "execution_count": 1068,
     "metadata": {},
     "output_type": "execute_result"
    }
   ],
   "source": [
    "env.reset()\n",
    "\n",
    "env.step([1,1])\n",
    "env.step([0,0])\n",
    "\n",
    "env.board"
   ]
  },
  {
   "cell_type": "code",
   "execution_count": 1069,
   "metadata": {
    "scrolled": true
   },
   "outputs": [
    {
     "data": {
      "text/plain": [
       "0.4279"
      ]
     },
     "execution_count": 1069,
     "metadata": {},
     "output_type": "execute_result"
    }
   ],
   "source": [
    "np.mean([rollout(env) for _ in range(10000)])"
   ]
  },
  {
   "cell_type": "markdown",
   "metadata": {},
   "source": [
    "# Реализуйте MCTS-поиск с этими rollouts для крестиков-ноликов на досках разного размера, сравните полученные стратегии между собой и со стратегиями, обученными в первых двух частях."
   ]
  },
  {
   "cell_type": "code",
   "execution_count": 1070,
   "metadata": {},
   "outputs": [],
   "source": [
    "from itertools import chain\n",
    "\n",
    "class Node:\n",
    "    def __init__(self, env, parent=None, my_turn=True):\n",
    "        self.my_turn = my_turn\n",
    "        self.env = env\n",
    "        self.parent = None\n",
    "        self.children = []\n",
    "        self.action = None\n",
    "        self.terminal = False\n",
    "        self.reward = None\n",
    "        \n",
    "        self.num_sim = 1\n",
    "        self.num_win = 1\n",
    "        \n",
    "        if parent is not None:\n",
    "            self.parent = parent\n",
    "            parent.children.append(self)\n",
    "            \n",
    "    @property\n",
    "    def ucb(self):\n",
    "        return (self.num_win / self.num_sim) + 2 * \\\n",
    "                    np.sqrt((np.log(self.parent.num_sim if self.parent is not None else self.num_sim) /\n",
    "                    self.num_sim))\n",
    "\n",
    "    def win(self):\n",
    "        self.done(win=True)\n",
    "        \n",
    "    def loss(self):\n",
    "        self.done(win=False)\n",
    "        \n",
    "    def done(self, win=False, propagate=True, update_num_sim=True):\n",
    "        self.num_win += 1 if win else 0\n",
    "        if update_num_sim: self.num_sim += 1\n",
    "        \n",
    "        if propagate:\n",
    "            parent = self.parent\n",
    "            while parent is not None:\n",
    "                parent.num_win += 1 if win else 0\n",
    "                if update_num_sim: parent.num_sim += 1\n",
    "                parent = parent.parent\n",
    "                \n",
    "    def __repr__(self):\n",
    "        repr = \\\n",
    "        \"\"\"\n",
    "node:        {node_id}\n",
    "parent_node: {parent_node}\n",
    "num_sim:     {num_sim}\n",
    "num_win:     {num_win}\n",
    "action:      {action}\n",
    "ucb:         {ucb}\n",
    "my_turn:     {my_turn}\n",
    "terminal:    {terminal}\n",
    "reward:      {reward}\n",
    "board:\n",
    "{board}\n",
    "children:\n",
    "{children_repr}\n",
    "        \"\"\".format(\n",
    "            node_id=id(self),\n",
    "            parent_node='none' if self.parent is None else id(self.parent),\n",
    "            num_sim=self.num_sim,\n",
    "            num_win=self.num_win,\n",
    "            children_repr='\\n'.join(chain(*[['\\n'.join(['|    ' + line for line in str(child).split('\\n')])] \n",
    "                                     for child in self.children])),\n",
    "            action='' if self.action is None else str(self.action),\n",
    "            ucb=self.ucb,\n",
    "            my_turn=str(self.my_turn),\n",
    "            terminal=str(self.terminal),\n",
    "            reward=str(self.reward),\n",
    "            board=str(self.env.board)\n",
    "        )\n",
    "        return repr\n",
    "    \n",
    "\n",
    "def select_node(node):\n",
    "    while len(node.children) > 0:\n",
    "        if node.my_turn:\n",
    "            node = max(node.children, key=lambda x: x.ucb)\n",
    "        else:\n",
    "            node = random.choice(node.children)\n",
    "        \n",
    "    return node\n",
    "\n",
    "\n",
    "\n",
    "def expand_node(node):\n",
    "    for action in node.env.emptySpaces.tolist():\n",
    "        action_env = deepcopy(node.env)\n",
    "        _, r, done, _ = action_env.step(action)\n",
    "        \n",
    "        new_node = Node(action_env, node, my_turn=not node.my_turn)\n",
    "        new_node.action = action\n",
    "        if done:\n",
    "            new_node.terminal = True\n",
    "            new_node.reward = r\n",
    "\n",
    "def mcts(env, num_sim=10):\n",
    "    tree = Node(deepcopy(env))\n",
    "    \n",
    "    assert env.isTerminal() is None\n",
    "    \n",
    "    for _ in range(num_sim):\n",
    "        node = select_node(tree)\n",
    "        \n",
    "        if node.terminal:\n",
    "            if node.reward > 0:\n",
    "                node.win()\n",
    "            else:\n",
    "                node.loss()\n",
    "                \n",
    "            continue\n",
    "        \n",
    "        expand_node(node)\n",
    "        \n",
    "        node = random.choice(node.children)\n",
    "        \n",
    "        if node.terminal:\n",
    "            if node.reward > 0:\n",
    "                node.win()\n",
    "            else:\n",
    "                node.loss()\n",
    "                \n",
    "            continue\n",
    "        else:\n",
    "            rol = rollout(node.env)\n",
    "            if rol > 0:\n",
    "                node.win()\n",
    "            else:\n",
    "                node.loss()\n",
    "    \n",
    "    best_action_node = max(tree.children, key=lambda x: x.num_sim)\n",
    "    best_action = best_action_node.action\n",
    "    best_action_stats = best_action_node.num_win, best_action_node.num_sim\n",
    "    return tree, best_action, best_action_stats\n",
    "\n",
    "    \n",
    "    return tree\n",
    "        \n",
    "    \n",
    "    "
   ]
  },
  {
   "cell_type": "code",
   "execution_count": 1072,
   "metadata": {},
   "outputs": [
    {
     "data": {
      "text/plain": [
       "array([[ 1, -1, -1],\n",
       "       [ 0, -1,  1],\n",
       "       [ 0,  1,  0]])"
      ]
     },
     "execution_count": 1072,
     "metadata": {},
     "output_type": "execute_result"
    }
   ],
   "source": [
    "_ = env.reset()\n",
    "\n",
    "env.step([0,0])\n",
    "env.step([0,1])\n",
    "\n",
    "env.step([1,2])\n",
    "env.step([1,1])\n",
    "\n",
    "env.step([2,1])\n",
    "env.step([0,2])\n",
    "\n",
    "env.board"
   ]
  },
  {
   "cell_type": "code",
   "execution_count": 1073,
   "metadata": {},
   "outputs": [
    {
     "name": "stdout",
     "output_type": "stream",
     "text": [
      "[[ 1 -1 -1]\n",
      " [ 0 -1  1]\n",
      " [ 0  1  0]]\n"
     ]
    }
   ],
   "source": [
    "print(str(env.board))"
   ]
  },
  {
   "cell_type": "code",
   "execution_count": 1074,
   "metadata": {},
   "outputs": [
    {
     "name": "stdout",
     "output_type": "stream",
     "text": [
      "CPU times: user 3.02 ms, sys: 136 µs, total: 3.16 ms\n",
      "Wall time: 3.06 ms\n"
     ]
    },
    {
     "data": {
      "text/plain": [
       "([2, 0], (16, 16))"
      ]
     },
     "execution_count": 1074,
     "metadata": {},
     "output_type": "execute_result"
    }
   ],
   "source": [
    "%%time\n",
    "tree, best_action, action_stats = mcts(env, num_sim=30)\n",
    "\n",
    "best_action, action_stats"
   ]
  },
  {
   "cell_type": "code",
   "execution_count": 1075,
   "metadata": {
    "scrolled": false
   },
   "outputs": [
    {
     "data": {
      "text/plain": [
       "\n",
       "node:        5468546608\n",
       "parent_node: none\n",
       "num_sim:     31\n",
       "num_win:     24\n",
       "action:      \n",
       "ucb:         1.4398474548275035\n",
       "my_turn:     True\n",
       "terminal:    False\n",
       "reward:      None\n",
       "board:\n",
       "[[ 1 -1 -1]\n",
       " [ 0 -1  1]\n",
       " [ 0  1  0]]\n",
       "children:\n",
       "|    \n",
       "|    node:        5444640720\n",
       "|    parent_node: 5468546608\n",
       "|    num_sim:     9\n",
       "|    num_win:     5\n",
       "|    action:      [1, 0]\n",
       "|    ucb:         1.7909569216413843\n",
       "|    my_turn:     False\n",
       "|    terminal:    False\n",
       "|    reward:      None\n",
       "|    board:\n",
       "|    [[ 1 -1 -1]\n",
       "|     [ 1 -1  1]\n",
       "|     [ 0  1  0]]\n",
       "|    children:\n",
       "|    |    \n",
       "|    |    node:        5445213152\n",
       "|    |    parent_node: 5444640720\n",
       "|    |    num_sim:     5\n",
       "|    |    num_win:     1\n",
       "|    |    action:      [2, 0]\n",
       "|    |    ucb:         1.5258128306322034\n",
       "|    |    my_turn:     True\n",
       "|    |    terminal:    True\n",
       "|    |    reward:      -1\n",
       "|    |    board:\n",
       "|    |    [[ 1 -1 -1]\n",
       "|    |     [ 1 -1  1]\n",
       "|    |     [-1  1  0]]\n",
       "|    |    children:\n",
       "|    |    \n",
       "|    |            \n",
       "|    |    \n",
       "|    |    node:        5445213040\n",
       "|    |    parent_node: 5444640720\n",
       "|    |    num_sim:     5\n",
       "|    |    num_win:     5\n",
       "|    |    action:      [2, 2]\n",
       "|    |    ucb:         2.3258128306322035\n",
       "|    |    my_turn:     True\n",
       "|    |    terminal:    False\n",
       "|    |    reward:      None\n",
       "|    |    board:\n",
       "|    |    [[ 1 -1 -1]\n",
       "|    |     [ 1 -1  1]\n",
       "|    |     [ 0  1 -1]]\n",
       "|    |    children:\n",
       "|    |    |    \n",
       "|    |    |    node:        5444839520\n",
       "|    |    |    parent_node: 5445213040\n",
       "|    |    |    num_sim:     5\n",
       "|    |    |    num_win:     5\n",
       "|    |    |    action:      [2, 0]\n",
       "|    |    |    ucb:         2.1347027495988895\n",
       "|    |    |    my_turn:     False\n",
       "|    |    |    terminal:    True\n",
       "|    |    |    reward:      1\n",
       "|    |    |    board:\n",
       "|    |    |    [[ 1 -1 -1]\n",
       "|    |    |     [ 1 -1  1]\n",
       "|    |    |     [ 1  1 -1]]\n",
       "|    |    |    children:\n",
       "|    |    |    \n",
       "|    |    |            \n",
       "|    |            \n",
       "|            \n",
       "|    \n",
       "|    node:        5445213600\n",
       "|    parent_node: 5468546608\n",
       "|    num_sim:     16\n",
       "|    num_win:     16\n",
       "|    action:      [2, 0]\n",
       "|    ucb:         1.9265510245643716\n",
       "|    my_turn:     False\n",
       "|    terminal:    False\n",
       "|    reward:      None\n",
       "|    board:\n",
       "|    [[ 1 -1 -1]\n",
       "|     [ 0 -1  1]\n",
       "|     [ 1  1  0]]\n",
       "|    children:\n",
       "|    |    \n",
       "|    |    node:        5445213432\n",
       "|    |    parent_node: 5445213600\n",
       "|    |    num_sim:     9\n",
       "|    |    num_win:     9\n",
       "|    |    action:      [1, 0]\n",
       "|    |    ucb:         2.11007281487693\n",
       "|    |    my_turn:     True\n",
       "|    |    terminal:    False\n",
       "|    |    reward:      None\n",
       "|    |    board:\n",
       "|    |    [[ 1 -1 -1]\n",
       "|    |     [-1 -1  1]\n",
       "|    |     [ 1  1  0]]\n",
       "|    |    children:\n",
       "|    |    |    \n",
       "|    |    |    node:        5444839072\n",
       "|    |    |    parent_node: 5445213432\n",
       "|    |    |    num_sim:     8\n",
       "|    |    |    num_win:     8\n",
       "|    |    |    action:      [2, 2]\n",
       "|    |    |    ucb:         2.048147073968205\n",
       "|    |    |    my_turn:     False\n",
       "|    |    |    terminal:    True\n",
       "|    |    |    reward:      1\n",
       "|    |    |    board:\n",
       "|    |    |    [[ 1 -1 -1]\n",
       "|    |    |     [-1 -1  1]\n",
       "|    |    |     [ 1  1  1]]\n",
       "|    |    |    children:\n",
       "|    |    |    \n",
       "|    |    |            \n",
       "|    |            \n",
       "|    |    \n",
       "|    |    node:        5445214048\n",
       "|    |    parent_node: 5445213600\n",
       "|    |    num_sim:     8\n",
       "|    |    num_win:     8\n",
       "|    |    action:      [2, 2]\n",
       "|    |    ucb:         2.177410022515475\n",
       "|    |    my_turn:     True\n",
       "|    |    terminal:    False\n",
       "|    |    reward:      None\n",
       "|    |    board:\n",
       "|    |    [[ 1 -1 -1]\n",
       "|    |     [ 0 -1  1]\n",
       "|    |     [ 1  1 -1]]\n",
       "|    |    children:\n",
       "|    |    |    \n",
       "|    |    |    node:        5445212704\n",
       "|    |    |    parent_node: 5445214048\n",
       "|    |    |    num_sim:     8\n",
       "|    |    |    num_win:     8\n",
       "|    |    |    action:      [1, 0]\n",
       "|    |    |    ucb:         2.019666990168809\n",
       "|    |    |    my_turn:     False\n",
       "|    |    |    terminal:    True\n",
       "|    |    |    reward:      1\n",
       "|    |    |    board:\n",
       "|    |    |    [[ 1 -1 -1]\n",
       "|    |    |     [ 1 -1  1]\n",
       "|    |    |     [ 1  1 -1]]\n",
       "|    |    |    children:\n",
       "|    |    |    \n",
       "|    |    |            \n",
       "|    |            \n",
       "|            \n",
       "|    \n",
       "|    node:        5445211640\n",
       "|    parent_node: 5468546608\n",
       "|    num_sim:     8\n",
       "|    num_win:     5\n",
       "|    action:      [2, 2]\n",
       "|    ucb:         1.935341025169621\n",
       "|    my_turn:     False\n",
       "|    terminal:    False\n",
       "|    reward:      None\n",
       "|    board:\n",
       "|    [[ 1 -1 -1]\n",
       "|     [ 0 -1  1]\n",
       "|     [ 0  1  1]]\n",
       "|    children:\n",
       "|    |    \n",
       "|    |    node:        5445213992\n",
       "|    |    parent_node: 5445211640\n",
       "|    |    num_sim:     4\n",
       "|    |    num_win:     4\n",
       "|    |    action:      [1, 0]\n",
       "|    |    ucb:         2.4420268866008827\n",
       "|    |    my_turn:     True\n",
       "|    |    terminal:    False\n",
       "|    |    reward:      None\n",
       "|    |    board:\n",
       "|    |    [[ 1 -1 -1]\n",
       "|    |     [-1 -1  1]\n",
       "|    |     [ 0  1  1]]\n",
       "|    |    children:\n",
       "|    |    |    \n",
       "|    |    |    node:        5444840416\n",
       "|    |    |    parent_node: 5445213992\n",
       "|    |    |    num_sim:     4\n",
       "|    |    |    num_win:     4\n",
       "|    |    |    action:      [2, 0]\n",
       "|    |    |    ucb:         2.177410022515475\n",
       "|    |    |    my_turn:     False\n",
       "|    |    |    terminal:    True\n",
       "|    |    |    reward:      1\n",
       "|    |    |    board:\n",
       "|    |    |    [[ 1 -1 -1]\n",
       "|    |    |     [-1 -1  1]\n",
       "|    |    |     [ 1  1  1]]\n",
       "|    |    |    children:\n",
       "|    |    |    \n",
       "|    |    |            \n",
       "|    |            \n",
       "|    |    \n",
       "|    |    node:        5444838904\n",
       "|    |    parent_node: 5445211640\n",
       "|    |    num_sim:     4\n",
       "|    |    num_win:     1\n",
       "|    |    action:      [2, 0]\n",
       "|    |    ucb:         1.692026886600883\n",
       "|    |    my_turn:     True\n",
       "|    |    terminal:    True\n",
       "|    |    reward:      -1\n",
       "|    |    board:\n",
       "|    |    [[ 1 -1 -1]\n",
       "|    |     [ 0 -1  1]\n",
       "|    |     [-1  1  1]]\n",
       "|    |    children:\n",
       "|    |    \n",
       "|    |            \n",
       "|            \n",
       "        "
      ]
     },
     "execution_count": 1075,
     "metadata": {},
     "output_type": "execute_result"
    }
   ],
   "source": [
    "tree"
   ]
  },
  {
   "cell_type": "markdown",
   "metadata": {},
   "source": [
    "# Реализуйте AlphaZero для крестиков-ноликов, используя MCTS из третьей части и DQN-сеть из второй части. Обучите стратегии для игры на больших досках (10х10 и выше, до пяти в ряд; опять же, может потребовать много времени, так что достаточно показать, что обучение началось и идёт).\n"
   ]
  },
  {
   "cell_type": "markdown",
   "metadata": {},
   "source": [
    "руководствовался этой статьей \n",
    "https://web.stanford.edu/~surag/posts/alphazero.html\n",
    "    \n",
    "реализовал mcts поиск и использованием V(s), проигрывание эпизода с использованием поиска\n",
    "в ход противника доска инвертится, то есть 1 превращается в -1 и наоборот\n",
    "затем идет обучение сетки на сгенерированных примерах\n",
    "генерацию примеров с поиском распараллелил\n",
    "\n",
    "тестировал на 5х5, т.к. жалко ноут\n",
    "как видно в конце, процент выиграша против рандомного соперника улучшается"
   ]
  },
  {
   "cell_type": "code",
   "execution_count": 8,
   "metadata": {},
   "outputs": [],
   "source": [
    "from copy import deepcopy\n",
    "from itertools import chain\n",
    "from math import sqrt\n",
    "\n",
    "from tqdm.notebook import tqdm\n",
    "import multiprocessing\n"
   ]
  },
  {
   "cell_type": "code",
   "execution_count": 9,
   "metadata": {},
   "outputs": [],
   "source": [
    "def transform_board(board):\n",
    "    '''\n",
    "    переделаем представление доски в более удобное для сверточной сетки\n",
    "    '''\n",
    "    new_board = np.zeros(shape=(3, board_size, board_size))\n",
    "    new_board[0, board == -1] = 1\n",
    "    new_board[1, board == 1] = 1\n",
    "    new_board[2, np.abs(board) == 1] = 1\n",
    "    return new_board"
   ]
  },
  {
   "cell_type": "code",
   "execution_count": 45,
   "metadata": {},
   "outputs": [],
   "source": [
    "class TicTacDuelingDQNetwork(nn.Module):\n",
    "    def __init__(self, board_size):\n",
    "        super(TicTacDuelingDQNetwork, self).__init__()\n",
    "        \n",
    "        self.board_size = board_size\n",
    "        \n",
    "        self.conv = nn.Sequential(\n",
    "            nn.Conv2d(3, 32, kernel_size=3, stride=1, padding=1),\n",
    "            nn.ReLU(),\n",
    "            nn.Conv2d(32, 16, kernel_size=3, stride=1, padding=1),\n",
    "            nn.ReLU(),\n",
    "            nn.Conv2d(16, 8, kernel_size=3, stride=1, padding=1),\n",
    "            nn.ReLU(),\n",
    "        )\n",
    "        \n",
    "        self.fc_input_dim = self.feature_size()\n",
    "        \n",
    "        self.value_stream = nn.Sequential(\n",
    "            nn.Linear(self.fc_input_dim + ((board_size**2) * 3), 64),\n",
    "            nn.ReLU(),\n",
    "            nn.Linear(64, 1)\n",
    "        )\n",
    "\n",
    "        self.advantage_stream = nn.Sequential(\n",
    "            nn.Linear(self.fc_input_dim + ((board_size**2) * 3), 64),\n",
    "            nn.ReLU(),\n",
    "            nn.Linear(64, self.board_size * self.board_size),\n",
    "            nn.Softmax(dim=1)\n",
    "            # softmax()?\n",
    "        )\n",
    "\n",
    "    def forward(self, state):\n",
    "        features = self.conv(state)\n",
    "        features = features.view(features.size(0), -1)\n",
    "        features = torch.cat([features, state.view(features.size(0), -1)], dim=1)\n",
    "#         print(features.size())\n",
    "        values = self.value_stream(features)\n",
    "        advantages = self.advantage_stream(features)\n",
    "        qvals = values + (advantages - advantages.mean())\n",
    "        \n",
    "        return qvals\n",
    "    \n",
    "    def get_v_p(self, state):\n",
    "        with torch.no_grad():\n",
    "            state = torch.FloatTensor(state).view(1,3,self.board_size, self.board_size)\n",
    "            features = self.conv(state)\n",
    "            features = features.view(features.size(0), -1)\n",
    "            features = torch.cat([features, state.view(features.size(0), -1)], dim=1)\n",
    "            value = self.value_stream(features)\n",
    "            advantages = self.advantage_stream(features) \n",
    "            return value.numpy().squeeze().item(), advantages.numpy().squeeze().tolist()\n",
    "    \n",
    "    def get_values(self, states_batch):\n",
    "        features = self.conv(states_batch.view(states_batch.size(0), 3, self.board_size, self.board_size))\n",
    "        features = features.view(features.size(0), -1)\n",
    "        features = torch.cat([features, states_batch.view(features.size(0), -1)], dim=1)\n",
    "        values = self.value_stream(features)\n",
    "        advantages = self.advantage_stream(features) \n",
    "        return values, advantages\n",
    "    \n",
    "    def get_action(self, board):\n",
    "        with torch.no_grad():\n",
    "            x = torch.FloatTensor(board).view(1, 3, self.board_size, self.board_size)\n",
    "            features = self.conv(x).view(1, -1)\n",
    "            features = torch.cat([features, x.view(features.size(0), -1)], dim=1)\n",
    "            advantages = self.advantage_stream(features) * ((1 - x[0,2,:,:])).view(features.size(0), -1)\n",
    "\n",
    "            return advantages.numpy().argmax()\n",
    "        \n",
    "\n",
    "    def feature_size(self):\n",
    "        return self.conv(torch.zeros(1, 3, self.board_size, self.board_size)).view(1, -1).size(1)\n"
   ]
  },
  {
   "cell_type": "code",
   "execution_count": 50,
   "metadata": {},
   "outputs": [],
   "source": [
    "class MCTSNNode:\n",
    "    def __init__(self, env, parent=None, my_turn=True, nnet=None):\n",
    "        self.my_turn = my_turn\n",
    "        self.env = env\n",
    "        self.parent = None\n",
    "        self.children = []\n",
    "        self.action = None\n",
    "        self.terminal = False\n",
    "        self.reward = None\n",
    "        self.visited = False\n",
    "        \n",
    "        self.num_sim = 0\n",
    "        \n",
    "        if parent is not None:\n",
    "            self.parent = parent\n",
    "            parent.children.append(self)\n",
    "            self.nnet = self.parent.nnet\n",
    "            self.my_turn = not self.parent.my_turn\n",
    "        else:\n",
    "            assert nnet is not None\n",
    "            self.nnet = nnet\n",
    "            \n",
    "        self.q_value = 0 # estimated by simulation\n",
    "        self.c_const = 1 # parameter\n",
    "        self.policy = None\n",
    "        self.initial_policy_value = None # got from nnet\n",
    "        \n",
    "    def search(self):\n",
    "        if self.terminal: \n",
    "            self.q_value = (self.q_value * self.num_sim + self.reward) / (self.num_sim + 1)\n",
    "            self.num_sim += 1\n",
    "            return -self.reward\n",
    "        \n",
    "        if not self.visited:\n",
    "            self.visited = True\n",
    "            \n",
    "            if not self.my_turn:\n",
    "                state = -self.env.board\n",
    "            else:\n",
    "                state = self.env.board\n",
    "            self.reward, self.policy = self.nnet.get_v_p(transform_board(state))\n",
    "\n",
    "            for action in self.env.emptySpaces:\n",
    "                action_env = deepcopy(self.env)\n",
    "                s, r, d, _ = action_env.step(action)\n",
    "                new_node = MCTSNNode(action_env, parent=self)\n",
    "                new_node.action = action\n",
    "                new_node.action_ind = action_to_action_ind[tuple(action)]\n",
    "                new_node.initial_policy_value = self.policy[new_node.action_ind]\n",
    "                \n",
    "                if d:\n",
    "                    new_node.terminal = True\n",
    "                    \n",
    "                    new_node.reward = r\n",
    "                    new_node.num_sim += 1\n",
    "                    \n",
    "                    if new_node.my_turn is True:\n",
    "                        new_node.reward *= -1\n",
    "            \n",
    "            self.q_value = (self.q_value * self.num_sim + self.reward) / (self.num_sim + 1)\n",
    "            self.num_sim += 1\n",
    "            return -self.reward\n",
    "        \n",
    "        best_action_node = max(self.children, key=lambda x: x.ucb)\n",
    "        v = best_action_node.search()\n",
    "        \n",
    "        self.q_value = (self.q_value * self.num_sim + v) / (self.num_sim + 1)\n",
    "        self.num_sim += 1\n",
    "        \n",
    "        return -v\n",
    "    \n",
    "    def get_policy(self):\n",
    "        policy = [0] * self.nnet.board_size * self.nnet.board_size\n",
    "        n_total = 0.000001\n",
    "        for child_node in self.children:\n",
    "            action_ind = child_node.action_ind\n",
    "            child_n = child_node.num_sim\n",
    "            policy[action_ind] = child_n \n",
    "            n_total += child_n\n",
    "        policy = [x/n_total for x in policy]\n",
    "        return policy\n",
    "            \n",
    "    @property\n",
    "    def ucb(self):\n",
    "        if self.parent is None: return 0\n",
    "        return self.q_value + self.c_const * sqrt(self.initial_policy_value+1) * (sqrt(self.parent.num_sim) / (1 + self.num_sim))\n",
    "                \n",
    "    def print(self, max_d=None, d=0):\n",
    "        if max_d is not None and d > max_d:return ''\n",
    "        repr = \\\n",
    "        \"\"\"\n",
    "node:        {node_id}\n",
    "parent_node: {parent_node}\n",
    "num_sim:     {num_sim}\n",
    "q_value:     {q_value}\n",
    "reward:      {reward}\n",
    "action:      {action}\n",
    "ucb:         {ucb}\n",
    "my_turn:     {my_turn}\n",
    "terminal:    {terminal}\n",
    "reward:      {reward}\n",
    "nnet_policy: {policy}\n",
    "board:\n",
    "{board}\n",
    "children:\n",
    "{children_repr}\n",
    "        \"\"\".format(\n",
    "            node_id=id(self),\n",
    "            parent_node='none' if self.parent is None else id(self.parent),\n",
    "            num_sim=self.num_sim,\n",
    "            num_win=self.q_value,\n",
    "            children_repr='\\n'.join(chain(*[['\\n'.join(['|    ' + line for line in child.print(max_d, d+1).split('\\n')])] \n",
    "                                     for child in self.children])),\n",
    "            action='' if self.action is None else str(self.action),\n",
    "            ucb=self.ucb,\n",
    "            my_turn=str(self.my_turn),\n",
    "            terminal=str(self.terminal),\n",
    "            reward=str(self.reward),\n",
    "            board=str(self.env.board) if self.my_turn else str(-self.env.board),\n",
    "            q_value=self.q_value,\n",
    "            policy=str(self.initial_policy_value)\n",
    "        )\n",
    "        \n",
    "        if d == 0:\n",
    "            print(repr)\n",
    "        else:\n",
    "            return repr\n",
    "    "
   ]
  },
  {
   "cell_type": "code",
   "execution_count": 68,
   "metadata": {},
   "outputs": [],
   "source": [
    "def execute_episode(env_class, nnet, num_mcts_sim=100, num_rand_moves=4):\n",
    "    env = env_class(5, 5, 5)\n",
    "    env.reset()\n",
    "    examples = []\n",
    "    \n",
    "    for _ in range(num_rand_moves):\n",
    "        _, r, d, _ = env.step(random.choice(env.emptySpaces))\n",
    "    \n",
    "    root = MCTSNNode(deepcopy(env), nnet=deepcopy(nnet)  )\n",
    "    \n",
    "    done = False\n",
    "    node = root\n",
    "    while not done:\n",
    "        for _ in range(num_mcts_sim):\n",
    "            node.search()\n",
    "            \n",
    "        p = np.array(node.get_policy())\n",
    "        action_ind = np.random.choice(np.arange(len(p)), p=(p / p.sum()))\n",
    "        action = list(action_ind_to_action[action_ind])\n",
    "        \n",
    "        best_action_node = [x for x in node.children if x.action_ind == action_ind][0]\n",
    "\n",
    "    \n",
    "        if node.my_turn:\n",
    "            examples.append([transform_board(node.env.board), node.get_policy()])\n",
    "        else:\n",
    "            examples.append([transform_board(-node.env.board), node.get_policy()])\n",
    "            \n",
    "        state, r, done, _ = env.step(action)\n",
    "            \n",
    "        \n",
    "        node = best_action_node\n",
    "        \n",
    "    exx = []\n",
    "    for i, x in enumerate(examples):\n",
    "        m = 1 if i % 2 == 0 else -1\n",
    "        exx.append([x[0], x[1], r * m])\n",
    "#     examples = [[x[0], x[1], r] for x in examples]\n",
    "    \n",
    "    return exx\n",
    "    return r, root"
   ]
  },
  {
   "cell_type": "code",
   "execution_count": 61,
   "metadata": {},
   "outputs": [],
   "source": [
    "def train_net(nnet, optim, examples, num_iter, batch_size=128):\n",
    "    losses = []\n",
    "    for _ in range(num_iter):\n",
    "        batch = random.sample(examples, batch_size)\n",
    "        \n",
    "        \n",
    "        batch_state, batch_action, batch_reward = zip(*batch)\n",
    "\n",
    "        batch_state = torch.FloatTensor(batch_state).view(batch_size, 3, board_size, board_size)\n",
    "        batch_policies = torch.FloatTensor(batch_action).view(batch_size, 1, board_size*board_size)\n",
    "        batch_reward = torch.FloatTensor(batch_reward).view(batch_size, 1)\n",
    "        \n",
    "        predicted_values, predicted_policies = nnet.get_values(batch_state)\n",
    "        \n",
    "        policy_addition = torch.matmul(batch_policies, torch.log(predicted_policies).view(batch_size, board_size*board_size, 1))\n",
    "        loss = torch.pow(predicted_values - batch_reward, 2) - policy_addition\n",
    "        loss = loss.mean()\n",
    "\n",
    "        optim.zero_grad()\n",
    "        loss.backward()\n",
    "        optim.step()\n",
    "        losses.append(loss.detach().numpy().item())\n",
    "    return losses\n",
    "        \n",
    "    "
   ]
  },
  {
   "cell_type": "code",
   "execution_count": 14,
   "metadata": {},
   "outputs": [],
   "source": [
    "def pit(env, new_nnet, old_nnet, num_games=1000, old_random=False, show=False, temp=0.1, num_rand_moves=0):\n",
    "    \n",
    "    wins = 1 # wins and losses of new net \n",
    "    losses = 1\n",
    "    for i in range(num_games):\n",
    "        rand_moves = num_rand_moves\n",
    "        \n",
    "        turn_of_new_nnet = i % 2 == 0\n",
    "        invert_board = not turn_of_new_nnet\n",
    "        \n",
    "        state = env.reset()\n",
    "        done = False\n",
    "        while not done:\n",
    "            \n",
    "            board = env.board\n",
    "            if invert_board:\n",
    "                board = -board\n",
    "                \n",
    "            if rand_moves > 0:\n",
    "                rand_moves -= 1\n",
    "                action = random.choice(env.emptySpaces)\n",
    "            else:\n",
    "                if random.random() < temp:\n",
    "                    action = random.choice(env.emptySpaces)\n",
    "                else:\n",
    "                    if turn_of_new_nnet:\n",
    "                        action_ind = new_nnet.get_action(transform_board(board))\n",
    "                        action = list(action_ind_to_action[action_ind])\n",
    "\n",
    "                    else:\n",
    "                        if old_random:\n",
    "                            action = random.choice(env.emptySpaces)\n",
    "                        else:\n",
    "                            action_ind = old_nnet.get_action(transform_board(board))\n",
    "                            action = list(action_ind_to_action[action_ind])\n",
    "                \n",
    "            \n",
    "            if show:\n",
    "                print(env.board, action)\n",
    "                print()\n",
    "            \n",
    "            state, r, done, _ = env.step(action)\n",
    "            turn_of_new_nnet = not turn_of_new_nnet\n",
    "            invert_board = not invert_board\n",
    "        if show:\n",
    "            print(r)\n",
    "            break\n",
    "        \n",
    "        if i % 2 == 0:\n",
    "            if r > 0:\n",
    "                wins += 1\n",
    "            elif r < 0:\n",
    "                losses += 1\n",
    "        else:\n",
    "            if r < 0:\n",
    "                wins += 1\n",
    "            elif r > 0:\n",
    "                losses += 1\n",
    "                \n",
    "            \n",
    "    return wins / (wins + losses)\n",
    "                \n",
    "    "
   ]
  },
  {
   "cell_type": "code",
   "execution_count": 15,
   "metadata": {},
   "outputs": [],
   "source": [
    "board_size = 5\n",
    "win_size = 5\n",
    "\n",
    "env = TicTacToe(board_size, board_size, win_size)\n",
    "env.reset()\n",
    "\n",
    "action_to_action_ind = {tuple(a):i for i,a in enumerate(env.emptySpaces)}\n",
    "action_ind_to_action = {v:k for k,v in action_to_action_ind.items()}\n",
    "\n",
    "nnet = TicTacDuelingDQNetwork(board_size)"
   ]
  },
  {
   "cell_type": "code",
   "execution_count": 70,
   "metadata": {},
   "outputs": [],
   "source": [
    "def pool_func(tup):\n",
    "    env, nnet, num_sim = tup\n",
    "    res = execute_episode(env, nnet, num_mcts_sim=num_sim, num_rand_moves=6)\n",
    "    return res"
   ]
  },
  {
   "cell_type": "code",
   "execution_count": 127,
   "metadata": {},
   "outputs": [
    {
     "data": {
      "application/vnd.jupyter.widget-view+json": {
       "model_id": "3f533697570049e9847bfa031232906c",
       "version_major": 2,
       "version_minor": 0
      },
      "text/plain": [
       "HBox(children=(HTML(value='num_iter'), FloatProgress(value=0.0, max=50.0), HTML(value='')))"
      ]
     },
     "metadata": {},
     "output_type": "display_data"
    },
    {
     "data": {
      "application/vnd.jupyter.widget-view+json": {
       "model_id": "",
       "version_major": 2,
       "version_minor": 0
      },
      "text/plain": [
       "HBox(children=(HTML(value=''), FloatProgress(value=0.0, max=1000.0), HTML(value='')))"
      ]
     },
     "metadata": {},
     "output_type": "display_data"
    },
    {
     "data": {
      "application/vnd.jupyter.widget-view+json": {
       "model_id": "",
       "version_major": 2,
       "version_minor": 0
      },
      "text/plain": [
       "HBox(children=(HTML(value='training'), FloatProgress(value=0.0, max=20000.0), HTML(value='')))"
      ]
     },
     "metadata": {},
     "output_type": "display_data"
    },
    {
     "data": {
      "application/vnd.jupyter.widget-view+json": {
       "model_id": "",
       "version_major": 2,
       "version_minor": 0
      },
      "text/plain": [
       "HBox(children=(HTML(value=''), FloatProgress(value=0.0, max=1000.0), HTML(value='')))"
      ]
     },
     "metadata": {},
     "output_type": "display_data"
    },
    {
     "data": {
      "application/vnd.jupyter.widget-view+json": {
       "model_id": "",
       "version_major": 2,
       "version_minor": 0
      },
      "text/plain": [
       "HBox(children=(HTML(value='training'), FloatProgress(value=0.0, max=20000.0), HTML(value='')))"
      ]
     },
     "metadata": {},
     "output_type": "display_data"
    },
    {
     "data": {
      "application/vnd.jupyter.widget-view+json": {
       "model_id": "",
       "version_major": 2,
       "version_minor": 0
      },
      "text/plain": [
       "HBox(children=(HTML(value=''), FloatProgress(value=0.0, max=1000.0), HTML(value='')))"
      ]
     },
     "metadata": {},
     "output_type": "display_data"
    },
    {
     "data": {
      "application/vnd.jupyter.widget-view+json": {
       "model_id": "",
       "version_major": 2,
       "version_minor": 0
      },
      "text/plain": [
       "HBox(children=(HTML(value='training'), FloatProgress(value=0.0, max=20000.0), HTML(value='')))"
      ]
     },
     "metadata": {},
     "output_type": "display_data"
    },
    {
     "data": {
      "application/vnd.jupyter.widget-view+json": {
       "model_id": "",
       "version_major": 2,
       "version_minor": 0
      },
      "text/plain": [
       "HBox(children=(HTML(value=''), FloatProgress(value=0.0, max=1000.0), HTML(value='')))"
      ]
     },
     "metadata": {},
     "output_type": "display_data"
    },
    {
     "data": {
      "application/vnd.jupyter.widget-view+json": {
       "model_id": "",
       "version_major": 2,
       "version_minor": 0
      },
      "text/plain": [
       "HBox(children=(HTML(value='training'), FloatProgress(value=0.0, max=20000.0), HTML(value='')))"
      ]
     },
     "metadata": {},
     "output_type": "display_data"
    },
    {
     "data": {
      "application/vnd.jupyter.widget-view+json": {
       "model_id": "",
       "version_major": 2,
       "version_minor": 0
      },
      "text/plain": [
       "HBox(children=(HTML(value=''), FloatProgress(value=0.0, max=1000.0), HTML(value='')))"
      ]
     },
     "metadata": {},
     "output_type": "display_data"
    },
    {
     "data": {
      "application/vnd.jupyter.widget-view+json": {
       "model_id": "e11652555b71491ea7d1d79b5e611a52",
       "version_major": 2,
       "version_minor": 0
      },
      "text/plain": [
       "HBox(children=(HTML(value='training'), FloatProgress(value=0.0, max=20000.0), HTML(value='')))"
      ]
     },
     "metadata": {},
     "output_type": "display_data"
    },
    {
     "name": "stdout",
     "output_type": "stream",
     "text": [
      "\n"
     ]
    },
    {
     "ename": "KeyboardInterrupt",
     "evalue": "",
     "output_type": "error",
     "traceback": [
      "\u001b[0;31m---------------------------------------------------------------------------\u001b[0m",
      "\u001b[0;31mKeyboardInterrupt\u001b[0m                         Traceback (most recent call last)",
      "\u001b[0;32m<ipython-input-127-926163048d24>\u001b[0m in \u001b[0;36m<module>\u001b[0;34m\u001b[0m\n\u001b[1;32m     15\u001b[0m     \u001b[0moptim\u001b[0m \u001b[0;34m=\u001b[0m \u001b[0mtorch\u001b[0m\u001b[0;34m.\u001b[0m\u001b[0moptim\u001b[0m\u001b[0;34m.\u001b[0m\u001b[0mSGD\u001b[0m\u001b[0;34m(\u001b[0m\u001b[0mnnet2\u001b[0m\u001b[0;34m.\u001b[0m\u001b[0mparameters\u001b[0m\u001b[0;34m(\u001b[0m\u001b[0;34m)\u001b[0m\u001b[0;34m,\u001b[0m \u001b[0mlr\u001b[0m\u001b[0;34m=\u001b[0m\u001b[0;36m0.01\u001b[0m\u001b[0;34m,\u001b[0m \u001b[0mweight_decay\u001b[0m\u001b[0;34m=\u001b[0m\u001b[0;36m0.00001\u001b[0m\u001b[0;34m,\u001b[0m \u001b[0mnesterov\u001b[0m\u001b[0;34m=\u001b[0m\u001b[0;32mFalse\u001b[0m\u001b[0;34m)\u001b[0m\u001b[0;34m\u001b[0m\u001b[0;34m\u001b[0m\u001b[0m\n\u001b[1;32m     16\u001b[0m     \u001b[0;32mfor\u001b[0m \u001b[0m_\u001b[0m \u001b[0;32min\u001b[0m \u001b[0mtqdm\u001b[0m\u001b[0;34m(\u001b[0m\u001b[0mrange\u001b[0m\u001b[0;34m(\u001b[0m\u001b[0;36m20000\u001b[0m\u001b[0;34m)\u001b[0m\u001b[0;34m,\u001b[0m \u001b[0mleave\u001b[0m\u001b[0;34m=\u001b[0m\u001b[0;32mFalse\u001b[0m\u001b[0;34m,\u001b[0m \u001b[0mdesc\u001b[0m\u001b[0;34m=\u001b[0m\u001b[0;34m'training'\u001b[0m\u001b[0;34m)\u001b[0m\u001b[0;34m:\u001b[0m\u001b[0;34m\u001b[0m\u001b[0;34m\u001b[0m\u001b[0m\n\u001b[0;32m---> 17\u001b[0;31m         \u001b[0mlosses\u001b[0m\u001b[0;34m.\u001b[0m\u001b[0mappend\u001b[0m\u001b[0;34m(\u001b[0m\u001b[0mtrain_net\u001b[0m\u001b[0;34m(\u001b[0m\u001b[0mnnet2\u001b[0m\u001b[0;34m,\u001b[0m \u001b[0moptim\u001b[0m\u001b[0;34m,\u001b[0m \u001b[0mexamples\u001b[0m\u001b[0;34m,\u001b[0m \u001b[0;36m1\u001b[0m\u001b[0;34m,\u001b[0m \u001b[0mbatch_size\u001b[0m\u001b[0;34m=\u001b[0m\u001b[0;36m512\u001b[0m\u001b[0;34m)\u001b[0m\u001b[0;34m)\u001b[0m\u001b[0;34m\u001b[0m\u001b[0;34m\u001b[0m\u001b[0m\n\u001b[0m\u001b[1;32m     18\u001b[0m \u001b[0;34m\u001b[0m\u001b[0m\n\u001b[1;32m     19\u001b[0m \u001b[0;31m#     frac_win = pit(env, nnet2, nnet, num_games=3000, temp=0.1, num_rand_moves=1)\u001b[0m\u001b[0;34m\u001b[0m\u001b[0;34m\u001b[0m\u001b[0;34m\u001b[0m\u001b[0m\n",
      "\u001b[0;32m<ipython-input-61-2ebcf462ac62>\u001b[0m in \u001b[0;36mtrain_net\u001b[0;34m(nnet, optim, examples, num_iter, batch_size)\u001b[0m\n\u001b[1;32m      7\u001b[0m         \u001b[0mbatch_state\u001b[0m\u001b[0;34m,\u001b[0m \u001b[0mbatch_action\u001b[0m\u001b[0;34m,\u001b[0m \u001b[0mbatch_reward\u001b[0m \u001b[0;34m=\u001b[0m \u001b[0mzip\u001b[0m\u001b[0;34m(\u001b[0m\u001b[0;34m*\u001b[0m\u001b[0mbatch\u001b[0m\u001b[0;34m)\u001b[0m\u001b[0;34m\u001b[0m\u001b[0;34m\u001b[0m\u001b[0m\n\u001b[1;32m      8\u001b[0m \u001b[0;34m\u001b[0m\u001b[0m\n\u001b[0;32m----> 9\u001b[0;31m         \u001b[0mbatch_state\u001b[0m \u001b[0;34m=\u001b[0m \u001b[0mtorch\u001b[0m\u001b[0;34m.\u001b[0m\u001b[0mFloatTensor\u001b[0m\u001b[0;34m(\u001b[0m\u001b[0mbatch_state\u001b[0m\u001b[0;34m)\u001b[0m\u001b[0;34m.\u001b[0m\u001b[0mview\u001b[0m\u001b[0;34m(\u001b[0m\u001b[0mbatch_size\u001b[0m\u001b[0;34m,\u001b[0m \u001b[0;36m3\u001b[0m\u001b[0;34m,\u001b[0m \u001b[0mboard_size\u001b[0m\u001b[0;34m,\u001b[0m \u001b[0mboard_size\u001b[0m\u001b[0;34m)\u001b[0m\u001b[0;34m\u001b[0m\u001b[0;34m\u001b[0m\u001b[0m\n\u001b[0m\u001b[1;32m     10\u001b[0m         \u001b[0mbatch_policies\u001b[0m \u001b[0;34m=\u001b[0m \u001b[0mtorch\u001b[0m\u001b[0;34m.\u001b[0m\u001b[0mFloatTensor\u001b[0m\u001b[0;34m(\u001b[0m\u001b[0mbatch_action\u001b[0m\u001b[0;34m)\u001b[0m\u001b[0;34m.\u001b[0m\u001b[0mview\u001b[0m\u001b[0;34m(\u001b[0m\u001b[0mbatch_size\u001b[0m\u001b[0;34m,\u001b[0m \u001b[0;36m1\u001b[0m\u001b[0;34m,\u001b[0m \u001b[0mboard_size\u001b[0m\u001b[0;34m*\u001b[0m\u001b[0mboard_size\u001b[0m\u001b[0;34m)\u001b[0m\u001b[0;34m\u001b[0m\u001b[0;34m\u001b[0m\u001b[0m\n\u001b[1;32m     11\u001b[0m         \u001b[0mbatch_reward\u001b[0m \u001b[0;34m=\u001b[0m \u001b[0mtorch\u001b[0m\u001b[0;34m.\u001b[0m\u001b[0mFloatTensor\u001b[0m\u001b[0;34m(\u001b[0m\u001b[0mbatch_reward\u001b[0m\u001b[0;34m)\u001b[0m\u001b[0;34m.\u001b[0m\u001b[0mview\u001b[0m\u001b[0;34m(\u001b[0m\u001b[0mbatch_size\u001b[0m\u001b[0;34m,\u001b[0m \u001b[0;36m1\u001b[0m\u001b[0;34m)\u001b[0m\u001b[0;34m\u001b[0m\u001b[0;34m\u001b[0m\u001b[0m\n",
      "\u001b[0;31mKeyboardInterrupt\u001b[0m: "
     ]
    }
   ],
   "source": [
    "fracs = []\n",
    "examples_big = []\n",
    "nets = []\n",
    "losses = []\n",
    "\n",
    "for i in tqdm(range(50), desc='num_iter'):\n",
    "    examples = []\n",
    "\n",
    "    num_epi = 1000\n",
    "    with multiprocessing.Pool(6) as pool:\n",
    "        res = list(tqdm(pool.imap(pool_func, [(env.__class__, nnet, 50)] * num_epi, chunksize=1),  total=num_epi, leave=False))\n",
    "    examples.extend(list(chain.from_iterable(res)))\n",
    "        \n",
    "    nnet2 = deepcopy(nnet)\n",
    "    optim = torch.optim.SGD(nnet2.parameters(), lr=0.01, weight_decay=0.00001, nesterov=False)\n",
    "    for _ in tqdm(range(20000), leave=False, desc='training'):\n",
    "        losses.append(train_net(nnet2, optim, examples, 1, batch_size=512))\n",
    "        \n",
    "#     frac_win = pit(env, nnet2, nnet, num_games=3000, temp=0.1, num_rand_moves=1)\n",
    "    nets.append(deepcopy(nnet))\n",
    "    nnet = deepcopy(nnet2)\n",
    "    examples_big.append(examples)\n",
    "        \n",
    "    \n",
    "        \n"
   ]
  },
  {
   "cell_type": "code",
   "execution_count": 128,
   "metadata": {
    "scrolled": false
   },
   "outputs": [
    {
     "data": {
      "text/plain": [
       "<matplotlib.axes._subplots.AxesSubplot at 0x153b2b550>"
      ]
     },
     "execution_count": 128,
     "metadata": {},
     "output_type": "execute_result"
    },
    {
     "data": {
      "image/png": "[encoded data removed]",
      "text/plain": [
       "<Figure size 432x288 with 1 Axes>"
      ]
     },
     "metadata": {
      "needs_background": "light"
     },
     "output_type": "display_data"
    }
   ],
   "source": [
    "pd.Series([x[0] for x in losses]).rolling(100).mean().plot()"
   ]
  },
  {
   "cell_type": "code",
   "execution_count": 73,
   "metadata": {},
   "outputs": [],
   "source": [
    "random_net = TicTacDuelingDQNetwork(board_size)"
   ]
  },
  {
   "cell_type": "code",
   "execution_count": 131,
   "metadata": {},
   "outputs": [
    {
     "name": "stdout",
     "output_type": "stream",
     "text": [
      "0.5496074232690935\n",
      "0.5481540930979133\n",
      "0.5555555555555556\n",
      "0.6621405750798722\n",
      "0.7410236822001528\n",
      "0.8319763138415989\n",
      "0.8509719222462203\n",
      "0.8525490196078431\n",
      "0.8674521354933726\n",
      "0.8573573573573574\n",
      "0.8786791098348887\n",
      "0.8716814159292036\n",
      "0.8782479584261321\n"
     ]
    }
   ],
   "source": [
    "# сразим полученную сеть с рандомными ходами противника, как видно результат улучшается\n",
    "\n",
    "for nnet in nets + [nnet2]:\n",
    "    print(pit(env, nnet, random_net, old_random=True, num_games=3000, show=False, num_rand_moves=6, temp=0.05))"
   ]
  }
 ],
 "metadata": {
  "kernelspec": {
   "display_name": "Python 3",
   "language": "python",
   "name": "python3"
  },
  "language_info": {
   "codemirror_mode": {
    "name": "ipython",
    "version": 3
   },
   "file_extension": ".py",
   "mimetype": "text/x-python",
   "name": "python",
   "nbconvert_exporter": "python",
   "pygments_lexer": "ipython3",
   "version": "3.7.3"
  },
  "toc": {
   "base_numbering": 1,
   "nav_menu": {},
   "number_sections": true,
   "sideBar": true,
   "skip_h1_title": false,
   "title_cell": "Table of Contents",
   "title_sidebar": "Contents",
   "toc_cell": false,
   "toc_position": {
    "height": "calc(100% - 180px)",
    "left": "10px",
    "top": "150px",
    "width": "398.212px"
   },
   "toc_section_display": true,
   "toc_window_display": true
  }
 },
 "nbformat": 4,
 "nbformat_minor": 4
}
